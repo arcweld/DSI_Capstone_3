{
  "nbformat": 4,
  "nbformat_minor": 0,
  "metadata": {
    "kernelspec": {
      "display_name": "Python 3",
      "language": "python",
      "name": "python3"
    },
    "language_info": {
      "codemirror_mode": {
        "name": "ipython",
        "version": 3
      },
      "file_extension": ".py",
      "mimetype": "text/x-python",
      "name": "python",
      "nbconvert_exporter": "python",
      "pygments_lexer": "ipython3",
      "version": "3.8.5"
    },
    "colab": {
      "name": "5_smw_vis.ipynb",
      "provenance": [],
      "include_colab_link": true
    }
  },
  "cells": [
    {
      "cell_type": "markdown",
      "metadata": {
        "id": "view-in-github",
        "colab_type": "text"
      },
      "source": [
        "<a href=\"https://colab.research.google.com/github/arcweld/DSI_Capstone_3/blob/main/notebooks/5_smw_vis.ipynb\" target=\"_parent\"><img src=\"https://colab.research.google.com/assets/colab-badge.svg\" alt=\"Open In Colab\"/></a>"
      ]
    },
    {
      "cell_type": "code",
      "metadata": {
        "id": "t-YsVHv2_MRv"
      },
      "source": [
        "import pandas as pd\n",
        "import numpy as np\n",
        "from PIL import Image\n",
        "import os\n",
        "import sys"
      ],
      "execution_count": 1,
      "outputs": []
    },
    {
      "cell_type": "code",
      "metadata": {
        "id": "UdlYmnhy_MRy"
      },
      "source": [
        "%matplotlib inline \n",
        "from matplotlib import pyplot as plt"
      ],
      "execution_count": 2,
      "outputs": []
    },
    {
      "cell_type": "code",
      "metadata": {
        "id": "ipc-i-XE_MRz"
      },
      "source": [
        "module_path = os.path.abspath(os.path.join('..'))\n",
        "if module_path not in sys.path:\n",
        "    sys.path.append(module_path)"
      ],
      "execution_count": null,
      "outputs": []
    },
    {
      "cell_type": "code",
      "metadata": {
        "colab": {
          "base_uri": "https://localhost:8080/"
        },
        "id": "NfXWw3XZ_c9w",
        "outputId": "60bbdaca-7383-4fcc-cd3e-4164f1fea958"
      },
      "source": [
        "from google.colab import drive\n",
        "drive.mount('/data', force_remount=True)"
      ],
      "execution_count": 5,
      "outputs": [
        {
          "output_type": "stream",
          "text": [
            "Mounted at /data\n"
          ],
          "name": "stdout"
        }
      ]
    },
    {
      "cell_type": "code",
      "metadata": {
        "colab": {
          "base_uri": "https://localhost:8080/"
        },
        "id": "5fxvWNqX_-hZ",
        "outputId": "8ccb0285-26c5-47b0-b9fd-2ba050db37ef"
      },
      "source": [
        "%cd ../data/MyDrive/Galvanize/DSI_Capstone_3/"
      ],
      "execution_count": 7,
      "outputs": [
        {
          "output_type": "stream",
          "text": [
            "/data/MyDrive/Galvanize/DSI_Capstone_3\n"
          ],
          "name": "stdout"
        }
      ]
    },
    {
      "cell_type": "code",
      "metadata": {
        "colab": {
          "base_uri": "https://localhost:8080/"
        },
        "id": "-C7tplGHCi9l",
        "outputId": "57d07f8a-09e8-4441-eadf-4f976f1840ba"
      },
      "source": [
        "%ls outputs/colours/"
      ],
      "execution_count": 31,
      "outputs": [
        {
          "output_type": "stream",
          "text": [
            "\u001b[0m\u001b[01;34mbarren_land\u001b[0m/  \u001b[01;34mbuilding\u001b[0m/  \u001b[01;34mcolours\u001b[0m/  \u001b[01;34mgrassland\u001b[0m/  \u001b[01;34mroad\u001b[0m/  \u001b[01;34mtrees\u001b[0m/  \u001b[01;34mwater\u001b[0m/\n"
          ],
          "name": "stdout"
        }
      ]
    },
    {
      "cell_type": "code",
      "metadata": {
        "id": "4PWYaCtD_MR0"
      },
      "source": [
        "from src.data import make_dataset"
      ],
      "execution_count": 8,
      "outputs": []
    },
    {
      "cell_type": "code",
      "metadata": {
        "id": "denYva6Q_MR0"
      },
      "source": [
        "X, y = make_dataset.fetch_training_data(data_path=os.path.join('data','raw'), nrows=2000)"
      ],
      "execution_count": 10,
      "outputs": []
    },
    {
      "cell_type": "code",
      "metadata": {
        "id": "EAmZ3xrg_MR0"
      },
      "source": [
        "labels_dict = {0: 'building',\n",
        " 1: 'barren_land',\n",
        " 2: 'trees',\n",
        " 3: 'grassland',\n",
        " 4: 'road',\n",
        " 5: 'water'}"
      ],
      "execution_count": 11,
      "outputs": []
    },
    {
      "cell_type": "code",
      "metadata": {
        "id": "WuEPZ_U-BY0J"
      },
      "source": [
        "i = np.random.randint(0,high=2000)"
      ],
      "execution_count": 57,
      "outputs": []
    },
    {
      "cell_type": "code",
      "metadata": {
        "colab": {
          "base_uri": "https://localhost:8080/",
          "height": 283
        },
        "id": "boXe_2hY_MR1",
        "outputId": "00e0fc7b-7b10-4889-f6b1-778104ac6882"
      },
      "source": [
        "print(f'{labels_dict[np.argmax(y.iloc[i])]}_{i}')\n",
        "\n",
        "img = plt.imshow(X[i,:,:,0:3]);"
      ],
      "execution_count": 58,
      "outputs": [
        {
          "output_type": "stream",
          "text": [
            "building_1306\n"
          ],
          "name": "stdout"
        },
        {
          "output_type": "display_data",
          "data": {
            "image/png": "[encoded data removed]",
            "text/plain": [
              "<Figure size 432x288 with 1 Axes>"
            ]
          },
          "metadata": {
            "tags": [],
            "needs_background": "light"
          }
        }
      ]
    },
    {
      "cell_type": "code",
      "metadata": {
        "colab": {
          "base_uri": "https://localhost:8080/",
          "height": 265
        },
        "id": "hPs-apJH_MR3",
        "outputId": "611d0029-9a0a-4821-aa5c-92a74b3f4f6c"
      },
      "source": [
        "plt.imshow(X[i,:,:,0], cmap='Reds');"
      ],
      "execution_count": 41,
      "outputs": [
        {
          "output_type": "display_data",
          "data": {
            "image/png": "[encoded data removed]",
            "text/plain": [
              "<Figure size 432x288 with 1 Axes>"
            ]
          },
          "metadata": {
            "tags": [],
            "needs_background": "light"
          }
        }
      ]
    },
    {
      "cell_type": "code",
      "metadata": {
        "colab": {
          "base_uri": "https://localhost:8080/",
          "height": 265
        },
        "id": "lM6uJKy3_MR3",
        "outputId": "81262e18-0d7a-4564-8c5d-0385c2d99d11"
      },
      "source": [
        "plt.imshow(X[i,:,:,1], cmap='Greens');"
      ],
      "execution_count": 42,
      "outputs": [
        {
          "output_type": "display_data",
          "data": {
            "image/png": "[encoded data removed]",
            "text/plain": [
              "<Figure size 432x288 with 1 Axes>"
            ]
          },
          "metadata": {
            "tags": [],
            "needs_background": "light"
          }
        }
      ]
    },
    {
      "cell_type": "code",
      "metadata": {
        "colab": {
          "base_uri": "https://localhost:8080/",
          "height": 265
        },
        "id": "CJAwBdKP_MR4",
        "outputId": "cfa19784-cbd0-4931-ff76-e1ae742e30dd"
      },
      "source": [
        "plt.imshow(X[i,:,:,2], cmap='Blues');"
      ],
      "execution_count": 43,
      "outputs": [
        {
          "output_type": "display_data",
          "data": {
            "image/png": "[encoded data removed]",
            "text/plain": [
              "<Figure size 432x288 with 1 Axes>"
            ]
          },
          "metadata": {
            "tags": [],
            "needs_background": "light"
          }
        }
      ]
    },
    {
      "cell_type": "code",
      "metadata": {
        "colab": {
          "base_uri": "https://localhost:8080/",
          "height": 265
        },
        "id": "LIelm5lTBc3I",
        "outputId": "4a2b18d0-75f4-4fc3-8c6e-5be4616f7286"
      },
      "source": [
        "plt.imshow(X[i,:,:,3], cmap='Purples');"
      ],
      "execution_count": 44,
      "outputs": [
        {
          "output_type": "display_data",
          "data": {
            "image/png": "[encoded data removed]",
            "text/plain": [
              "<Figure size 432x288 with 1 Axes>"
            ]
          },
          "metadata": {
            "tags": [],
            "needs_background": "light"
          }
        }
      ]
    },
    {
      "cell_type": "code",
      "metadata": {
        "id": "pDZy8Dl-Bv3s"
      },
      "source": [
        "plt.imsave(os.path.join('outputs', 'colours', f'{labels_dict[np.argmax(y.iloc[i])]}{i}.png'), X[i,:,:,0:3])\n",
        "plt.imsave(os.path.join('outputs', 'colours', f'{labels_dict[np.argmax(y.iloc[i])]}{i}R.png'), X[i,:,:,0], cmap='Reds')\n",
        "plt.imsave(os.path.join('outputs', 'colours', f'{labels_dict[np.argmax(y.iloc[i])]}{i}G.png'), X[i,:,:,1], cmap='Greens')\n",
        "plt.imsave(os.path.join('outputs', 'colours', f'{labels_dict[np.argmax(y.iloc[i])]}{i}B.png'), X[i,:,:,2], cmap='Blues')\n",
        "plt.imsave(os.path.join('outputs', 'colours', f'{labels_dict[np.argmax(y.iloc[i])]}{i}N.png'), X[i,:,:,3], cmap='Purples');\n"
      ],
      "execution_count": 59,
      "outputs": []
    },
    {
      "cell_type": "code",
      "metadata": {
        "id": "Zy9OpS1u_MR4",
        "outputId": "73ec3666-ab3d-4864-a784-94c68b3f842c"
      },
      "source": [
        "X[i,:,:,0:3].shape"
      ],
      "execution_count": null,
      "outputs": [
        {
          "output_type": "execute_result",
          "data": {
            "text/plain": [
              "(28, 28, 3)"
            ]
          },
          "metadata": {
            "tags": []
          },
          "execution_count": 54
        }
      ]
    },
    {
      "cell_type": "code",
      "metadata": {
        "id": "7OLRv-6d_MR5"
      },
      "source": [
        "Image.fromarray(X[i,:,:,0]).show()"
      ],
      "execution_count": null,
      "outputs": []
    },
    {
      "cell_type": "code",
      "metadata": {
        "id": "41FhucuP_MR5"
      },
      "source": [
        "im.show()"
      ],
      "execution_count": null,
      "outputs": []
    },
    {
      "cell_type": "code",
      "metadata": {
        "id": "cTqM7Dme_MR5",
        "outputId": "99be19f0-fd51-4715-aad3-8e257adc2015"
      },
      "source": [
        "i"
      ],
      "execution_count": null,
      "outputs": [
        {
          "output_type": "execute_result",
          "data": {
            "text/plain": [
              "271"
            ]
          },
          "metadata": {
            "tags": []
          },
          "execution_count": 62
        }
      ]
    },
    {
      "cell_type": "code",
      "metadata": {
        "id": "x62lDyfu_MR6"
      },
      "source": [
        ""
      ],
      "execution_count": null,
      "outputs": []
    }
  ]
}