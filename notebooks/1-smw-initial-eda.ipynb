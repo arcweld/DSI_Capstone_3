{
 "cells": [
  {
   "cell_type": "code",
   "execution_count": 1,
   "metadata": {},
   "outputs": [],
   "source": [
    "from scipy.io import loadmat\n",
    "import pandas as pd\n",
    "import numpy as np\n",
    "import os\n",
    "import sys"
   ]
  },
  {
   "cell_type": "code",
   "execution_count": 32,
   "metadata": {},
   "outputs": [],
   "source": [
    "%matplotlib inline \n",
    "from matplotlib import pyplot as plt"
   ]
  },
  {
   "cell_type": "code",
   "execution_count": 33,
   "metadata": {},
   "outputs": [],
   "source": [
    "module_path = os.path.abspath(os.path.join('..'))\n",
    "if module_path not in sys.path:\n",
    "    sys.path.append(module_path)"
   ]
  },
  {
   "cell_type": "code",
   "execution_count": 61,
   "metadata": {},
   "outputs": [
    {
     "ename": "ModuleNotFoundError",
     "evalue": "No module named 'tensorflow'",
     "output_type": "error",
     "traceback": [
      "\u001b[0;31m---------------------------------------------------------------------------\u001b[0m",
      "\u001b[0;31mModuleNotFoundError\u001b[0m                       Traceback (most recent call last)",
      "\u001b[0;32m<ipython-input-61-26783bcecd38>\u001b[0m in \u001b[0;36m<module>\u001b[0;34m\u001b[0m\n\u001b[1;32m      1\u001b[0m \u001b[0;32mfrom\u001b[0m \u001b[0msrc\u001b[0m\u001b[0;34m.\u001b[0m\u001b[0mdata\u001b[0m \u001b[0;32mimport\u001b[0m \u001b[0mmake_dataset\u001b[0m\u001b[0;34m\u001b[0m\u001b[0;34m\u001b[0m\u001b[0m\n\u001b[0;32m----> 2\u001b[0;31m \u001b[0;32mfrom\u001b[0m \u001b[0msrc\u001b[0m\u001b[0;34m.\u001b[0m\u001b[0mmodels\u001b[0m \u001b[0;32mimport\u001b[0m \u001b[0mtrain_model\u001b[0m\u001b[0;34m\u001b[0m\u001b[0;34m\u001b[0m\u001b[0m\n\u001b[0m",
      "\u001b[0;32m~/Documents/1_Projects/data_science_studies/DSI/Capstones/DSI_Capstone_3/src/models/train_model.py\u001b[0m in \u001b[0;36m<module>\u001b[0;34m\u001b[0m\n\u001b[1;32m      1\u001b[0m \u001b[0;32mimport\u001b[0m \u001b[0mos\u001b[0m\u001b[0;34m\u001b[0m\u001b[0;34m\u001b[0m\u001b[0m\n\u001b[1;32m      2\u001b[0m \u001b[0;34m\u001b[0m\u001b[0m\n\u001b[0;32m----> 3\u001b[0;31m \u001b[0;32mimport\u001b[0m \u001b[0mtensorflow\u001b[0m \u001b[0;32mas\u001b[0m \u001b[0mtf\u001b[0m\u001b[0;34m\u001b[0m\u001b[0;34m\u001b[0m\u001b[0m\n\u001b[0m\u001b[1;32m      4\u001b[0m \u001b[0;32mfrom\u001b[0m \u001b[0mtensorflow\u001b[0m\u001b[0;34m.\u001b[0m\u001b[0mkeras\u001b[0m\u001b[0;34m.\u001b[0m\u001b[0mcallbacks\u001b[0m \u001b[0;32mimport\u001b[0m \u001b[0mTensorBoard\u001b[0m\u001b[0;34m,\u001b[0m \u001b[0mModelCheckpoint\u001b[0m\u001b[0;34m\u001b[0m\u001b[0;34m\u001b[0m\u001b[0m\n\u001b[1;32m      5\u001b[0m \u001b[0;32mfrom\u001b[0m \u001b[0mtensorflow\u001b[0m\u001b[0;34m.\u001b[0m\u001b[0mkeras\u001b[0m\u001b[0;34m.\u001b[0m\u001b[0mlayers\u001b[0m \u001b[0;32mimport\u001b[0m \u001b[0mConv2D\u001b[0m\u001b[0;34m,\u001b[0m \u001b[0mMaxPool2D\u001b[0m\u001b[0;34m,\u001b[0m \u001b[0mDense\u001b[0m\u001b[0;34m,\u001b[0m \u001b[0mDropout\u001b[0m\u001b[0;34m,\u001b[0m \u001b[0mFlatten\u001b[0m\u001b[0;34m\u001b[0m\u001b[0;34m\u001b[0m\u001b[0m\n",
      "\u001b[0;31mModuleNotFoundError\u001b[0m: No module named 'tensorflow'"
     ]
    }
   ],
   "source": [
    "from src.data import make_dataset\n",
    "from src.models import train_model"
   ]
  },
  {
   "cell_type": "code",
   "execution_count": 44,
   "metadata": {},
   "outputs": [
    {
     "data": {
      "text/plain": [
       "(     0     1     2     3     4     5     6     7     8     9     ...  3126  \\\n",
       " 0     116   119   118   159   108   113   118   150    67    60  ...    21   \n",
       " 1     177   152   129   183   180   154   128   182   181   156  ...   128   \n",
       " 2      20    34    72    10    27    45    76    13    39    92  ...    81   \n",
       " 3     102    92   136    20   134   156   144    33   135   162  ...    69   \n",
       " 4     122   140   156    34   124   155   151    32   135   165  ...   157   \n",
       " ..    ...   ...   ...   ...   ...   ...   ...   ...   ...   ...  ...   ...   \n",
       " 495   152   141   152    96   171   165   185   120   158   147  ...    73   \n",
       " 496   100   109   137    21   100   109   140    22    84    98  ...   124   \n",
       " 497    57    51    46   114    43    32    38    93    48    49  ...    54   \n",
       " 498    43    49    93    10    68    98   102    18   103    91  ...    72   \n",
       " 499    68    57    54   101    61    56    58    84    50    52  ...    31   \n",
       " \n",
       "      3127  3128  3129  3130  3131  3132  3133  3134  3135  \n",
       " 0      80    56    47    38    94    69    67    61   103  \n",
       " 1     171   182   164   135   173   182   160   136   174  \n",
       " 2       8    47   127    93     9    58   137   102    12  \n",
       " 3       5    27    51    67     6    36    54    73     6  \n",
       " 4      34   113   142   151    24   101   115   149    21  \n",
       " ..    ...   ...   ...   ...   ...   ...   ...   ...   ...  \n",
       " 495   159   105   111    91   169   119   125   113   185  \n",
       " 496    18   103   121   134    22    99   112   133    22  \n",
       " 497   101    51    53    52   102    46    50    45   108  \n",
       " 498     6    24    29    69     5    24    37    75     5  \n",
       " 499   124    60    48    42   114    70    68    73   126  \n",
       " \n",
       " [500 rows x 3136 columns],\n",
       "      0  1  2  3  4  5\n",
       " 0    0  0  1  0  0  0\n",
       " 1    0  1  0  0  0  0\n",
       " 2    0  0  0  0  0  1\n",
       " 3    0  0  0  0  0  1\n",
       " 4    0  0  0  0  0  1\n",
       " ..  .. .. .. .. .. ..\n",
       " 495  0  0  0  1  0  0\n",
       " 496  0  0  0  0  0  1\n",
       " 497  0  0  1  0  0  0\n",
       " 498  0  0  0  0  0  1\n",
       " 499  0  0  1  0  0  0\n",
       " \n",
       " [500 rows x 6 columns])"
      ]
     },
     "execution_count": 44,
     "metadata": {},
     "output_type": "execute_result"
    }
   ],
   "source": [
    "make_dataset.fetch_training_data(data_path=os.path.join('..','data','raw'), nrows=500)"
   ]
  },
  {
   "cell_type": "code",
   "execution_count": 8,
   "metadata": {},
   "outputs": [],
   "source": [
    "DATA_PATH = os.path.join('..','data','raw')\n",
    "\n",
    "datafile = 'sat-6-full.mat'\n",
    "data = loadmat(os.path.join(DATA_PATH, datafile))"
   ]
  },
  {
   "cell_type": "code",
   "execution_count": 38,
   "metadata": {},
   "outputs": [
    {
     "name": "stdout",
     "output_type": "stream",
     "text": [
      "readme.txt\tsat6annotations.csv  X_test_sat6.csv   y_test_sat6.csv\n",
      "sat-4-full.mat\tsat-6-full.mat\t     X_train_sat6.csv  y_train_sat6.csv\n"
     ]
    }
   ],
   "source": [
    "!ls ../data/raw/"
   ]
  },
  {
   "cell_type": "code",
   "execution_count": 10,
   "metadata": {},
   "outputs": [],
   "source": [
    "data = loadmat(datafile)"
   ]
  },
  {
   "cell_type": "code",
   "execution_count": 12,
   "metadata": {
    "scrolled": true
   },
   "outputs": [
    {
     "data": {
      "text/plain": [
       "{'__header__': b'MATLAB 5.0 MAT-file, Platform: MACI64, Created on: Thu Oct 23 20:53:12 2014',\n",
       " '__version__': '1.0',\n",
       " '__globals__': [],\n",
       " 'train_x': array([[[[116, 177,  20, ...,  74, 117, 203],\n",
       "          [119, 152,  34, ..., 100, 124, 191],\n",
       "          [118, 129,  72, ...,  92,  99, 153],\n",
       "          [159, 183,  10, ...,  11, 187, 188]],\n",
       " \n",
       "         [[108, 180,  27, ...,  60, 108, 208],\n",
       "          [113, 154,  45, ...,  88, 113, 195],\n",
       "          [118, 128,  76, ...,  82,  83, 155],\n",
       "          [150, 182,  13, ...,  10, 182, 188]],\n",
       " \n",
       "         [[ 67, 181,  39, ...,  34, 112, 201],\n",
       "          [ 60, 156,  92, ...,  41, 116, 187],\n",
       "          [ 59, 129,  77, ...,  75,  92, 155],\n",
       "          [ 93, 180,   7, ...,   7, 187, 185]],\n",
       " \n",
       "         ...,\n",
       " \n",
       "         [[ 29, 184,  53, ...,  60, 127, 194],\n",
       "          [ 28, 164,  64, ...,  79, 126, 180],\n",
       "          [ 42, 133, 102, ...,  85, 115, 149],\n",
       "          [ 32, 177,  10, ...,   7, 170, 186]],\n",
       " \n",
       "         [[ 36, 185,  60, ...,  33, 126, 197],\n",
       "          [ 32, 164,  68, ...,  43, 124, 182],\n",
       "          [ 51, 140, 106, ...,  82, 111, 146],\n",
       "          [ 38, 179,  11, ...,   6, 167, 187]],\n",
       " \n",
       "         [[ 42, 192,  49, ...,  29, 128, 193],\n",
       "          [ 31, 172,  68, ...,  45, 126, 178],\n",
       "          [ 32, 135, 109, ...,  79, 119, 151],\n",
       "          [ 50, 179,  11, ...,   6, 167, 188]]],\n",
       " \n",
       " \n",
       "        [[[122, 176,  22, ...,  63, 112, 197],\n",
       "          [128, 152,  27, ..., 120, 119, 180],\n",
       "          [119, 127,  65, ...,  94,  87, 147],\n",
       "          [166, 184,   5, ...,   9, 181, 186]],\n",
       " \n",
       "         [[113, 181,  32, ...,  67, 107, 199],\n",
       "          [121, 155,  36, ..., 110, 115, 184],\n",
       "          [114, 132,  69, ...,  87,  87, 154],\n",
       "          [157, 183,   6, ...,   9, 187, 186]],\n",
       " \n",
       "         [[ 64, 178,  51, ...,  43, 115, 199],\n",
       "          [ 63, 152, 101, ...,  51, 122, 184],\n",
       "          [ 46, 131,  90, ...,  78, 104, 154],\n",
       "          [101, 182,  11, ...,   7, 194, 185]],\n",
       " \n",
       "         ...,\n",
       " \n",
       "         [[ 38, 181,  77, ...,  37, 126, 196],\n",
       "          [ 31, 165, 102, ...,  58, 126, 181],\n",
       "          [ 44, 137, 101, ...,  89, 113, 147],\n",
       "          [ 42, 181,  12, ...,   7, 173, 187]],\n",
       " \n",
       "         [[ 36, 185,  71, ...,  35, 120, 199],\n",
       "          [ 21, 167,  96, ...,  58, 120, 184],\n",
       "          [ 21, 141, 108, ...,  83, 103, 155],\n",
       "          [ 40, 180,  14, ...,   6, 165, 189]],\n",
       " \n",
       "         [[ 64, 194,  62, ...,  33, 122, 197],\n",
       "          [ 57, 173, 103, ...,  54, 119, 182],\n",
       "          [ 60, 147, 110, ...,  81, 106, 152],\n",
       "          [ 75, 180,  12, ...,   6, 158, 187]]],\n",
       " \n",
       " \n",
       "        [[[105, 178,  20, ...,  39, 111, 187],\n",
       "          [105, 156,  22, ...,  54, 121, 173],\n",
       "          [ 93, 130,  71, ...,  87,  97, 145],\n",
       "          [146, 186,   5, ...,   7, 185, 184]],\n",
       " \n",
       "         [[110, 185,  31, ...,  42, 109, 192],\n",
       "          [117, 157,  70, ...,  60, 120, 178],\n",
       "          [106, 131,  76, ...,  90,  95, 146],\n",
       "          [155, 184,  10, ...,   7, 189, 186]],\n",
       " \n",
       "         [[ 95, 185,  48, ...,  35, 105, 196],\n",
       "          [101, 158, 158, ...,  56, 114, 183],\n",
       "          [ 90, 131,  97, ...,  76,  94, 153],\n",
       "          [137, 183,  23, ...,   6, 188, 187]],\n",
       " \n",
       "         ...,\n",
       " \n",
       "         [[ 39, 184,  70, ...,  47, 124, 193],\n",
       "          [ 22, 162,  69, ...,  69, 126, 176],\n",
       "          [ 25, 136, 111, ...,  94, 107, 151],\n",
       "          [ 43, 181,  14, ...,   8, 173, 188]],\n",
       " \n",
       "         [[ 69, 190,  77, ...,  39, 118, 202],\n",
       "          [ 57, 170, 100, ...,  62, 120, 190],\n",
       "          [ 60, 145, 110, ...,  89, 100, 153],\n",
       "          [ 72, 182,  20, ...,   8, 165, 188]],\n",
       " \n",
       "         [[105, 196,  97, ...,  34, 113, 195],\n",
       "          [ 96, 177, 148, ...,  54, 111, 182],\n",
       "          [107, 145, 127, ...,  83,  89, 149],\n",
       "          [119, 181,  25, ...,   7, 154, 186]]],\n",
       " \n",
       " \n",
       "        ...,\n",
       " \n",
       " \n",
       "        [[[ 27, 184,  30, ...,  28, 117, 165],\n",
       "          [ 26, 168,  39, ...,  45, 118, 155],\n",
       "          [ 54, 143,  88, ...,  79,  98, 137],\n",
       "          [ 34, 178,   7, ...,   5, 173, 178]],\n",
       " \n",
       "         [[ 26, 192,  48, ...,  29, 116, 169],\n",
       "          [ 21, 170,  92, ...,  44, 116, 162],\n",
       "          [ 52, 145, 104, ...,  73, 100, 138],\n",
       "          [ 27, 176,  11, ...,   5, 167, 181]],\n",
       " \n",
       "         [[ 31, 196,  77, ...,  29, 109, 174],\n",
       "          [ 29, 171, 117, ...,  42, 108, 161],\n",
       "          [ 61, 143, 109, ...,  71,  92, 140],\n",
       "          [ 33, 174,  13, ...,   5, 157, 182]],\n",
       " \n",
       "         ...,\n",
       " \n",
       "         [[105, 183,  49, ...,  32, 109, 178],\n",
       "          [110, 166,  73, ...,  48, 110, 164],\n",
       "          [107, 139,  93, ...,  83,  93, 142],\n",
       "          [145, 178,  10, ...,   6, 165, 181]],\n",
       " \n",
       "         [[ 81, 180,  52, ...,  36, 114, 177],\n",
       "          [ 86, 165,  81, ...,  53, 116, 164],\n",
       "          [ 88, 134,  99, ...,  85, 103, 140],\n",
       "          [118, 178,  12, ...,   6, 165, 182]],\n",
       " \n",
       "         [[ 68, 176,  80, ...,  45, 113, 176],\n",
       "          [ 64, 158,  83, ...,  74, 116, 164],\n",
       "          [ 64, 134, 100, ...,  91, 101, 137],\n",
       "          [ 96, 174,  20, ...,   7, 163, 182]]],\n",
       " \n",
       " \n",
       "        [[[ 38, 186, 113, ...,  29, 116, 167],\n",
       "          [ 32, 164, 121, ...,  46, 119, 159],\n",
       "          [ 65, 137,  98, ...,  71, 103, 141],\n",
       "          [ 40, 174,  18, ...,   5, 166, 182]],\n",
       " \n",
       "         [[ 35, 188, 159, ...,  30, 113, 173],\n",
       "          [ 35, 166, 170, ...,  55, 113, 165],\n",
       "          [ 67, 135, 107, ...,  76,  98, 140],\n",
       "          [ 41, 173,  33, ...,   6, 159, 181]],\n",
       " \n",
       "         [[ 43, 190, 120, ...,  30, 108, 175],\n",
       "          [ 43, 169,  78, ...,  44, 105, 161],\n",
       "          [ 71, 139, 109, ...,  71,  91, 140],\n",
       "          [ 43, 174,  16, ...,   5, 152, 179]],\n",
       " \n",
       "         ...,\n",
       " \n",
       "         [[ 66, 178,  30, ...,  41, 111, 175],\n",
       "          [ 59, 161,  31, ...,  59, 112, 162],\n",
       "          [ 54, 135,  86, ...,  84,  93, 138],\n",
       "          [ 98, 173,   7, ...,   7, 170, 182]],\n",
       " \n",
       "         [[ 74, 182,  49, ...,  41, 110, 175],\n",
       "          [ 80, 161,  86, ...,  56, 111, 165],\n",
       "          [ 77, 136,  92, ...,  88,  95, 140],\n",
       "          [112, 173,  10, ...,   7, 166, 183]],\n",
       " \n",
       "         [[ 50, 180,  61, ...,  42, 113, 173],\n",
       "          [ 47, 162, 109, ...,  53, 116, 162],\n",
       "          [ 32, 137,  96, ...,  93,  99, 134],\n",
       "          [ 82, 173,  14, ...,   7, 167, 181]]],\n",
       " \n",
       " \n",
       "        [[[ 45, 182,  99, ...,  32, 105, 164],\n",
       "          [ 41, 161, 139, ...,  47, 108, 157],\n",
       "          [ 69, 139,  97, ...,  73,  89, 139],\n",
       "          [ 53, 174,  15, ...,   5, 151, 180]],\n",
       " \n",
       "         [[ 36, 178, 138, ...,  37, 113, 168],\n",
       "          [ 32, 161, 154, ...,  51, 113, 156],\n",
       "          [ 56, 141, 110, ...,  73, 101, 139],\n",
       "          [ 46, 171,  18, ...,   6, 159, 178]],\n",
       " \n",
       "         [[ 36, 181, 119, ...,  32, 113, 172],\n",
       "          [ 31, 165,  58, ...,  43, 111, 160],\n",
       "          [ 51, 139, 103, ...,  73, 102, 144],\n",
       "          [ 44, 170,  16, ...,   6, 152, 176]],\n",
       " \n",
       "         ...,\n",
       " \n",
       "         [[ 54, 177,  40, ...,  39, 118, 183],\n",
       "          [ 33, 158,  39, ...,  65, 119, 164],\n",
       "          [ 21, 128,  81, ...,  80, 100, 137],\n",
       "          [ 80, 171,   8, ...,   6, 176, 182]],\n",
       " \n",
       "         [[ 56, 182,  47, ...,  40, 106, 178],\n",
       "          [ 47, 164, 127, ...,  64, 108, 166],\n",
       "          [ 38, 135,  93, ...,  78,  88, 141],\n",
       "          [ 94, 173,   9, ...,   7, 168, 184]],\n",
       " \n",
       "         [[ 69, 182,  58, ...,  43, 108, 170],\n",
       "          [ 67, 160, 137, ...,  67, 113, 163],\n",
       "          [ 61, 136, 102, ...,  81,  93, 134],\n",
       "          [103, 174,  12, ...,   7, 170, 181]]]], dtype=uint8),\n",
       " 'test_x': array([[[[ 95, 102,  47, ..., 140,  89,  30],\n",
       "          [ 91, 102,  54, ..., 136,  87,  26],\n",
       "          [ 61, 103,  95, ..., 126,  99,  29],\n",
       "          [157, 137,  10, ..., 190,  13,  44]],\n",
       " \n",
       "         [[105, 108,  79, ..., 156,  64,  29],\n",
       "          [113, 110,  89, ..., 163,  66,  22],\n",
       "          [101, 116, 108, ..., 152,  89,  29],\n",
       "          [179, 154,  15, ..., 208,   9,  26]],\n",
       " \n",
       "         [[ 50,  88,  96, ..., 152,  16,  40],\n",
       "          [ 35,  83, 131, ..., 170,  26,  31],\n",
       "          [ 24,  70, 118, ..., 149,  65,  45],\n",
       "          [124, 122,  23, ..., 205,   4,  25]],\n",
       " \n",
       "         ...,\n",
       " \n",
       "         [[ 54,  91,  45, ...,  80, 103, 124],\n",
       "          [ 56,  89,  62, ...,  93, 109, 118],\n",
       "          [ 35,  92,  91, ...,  92, 125, 107],\n",
       "          [128, 110,   9, ..., 160,  25, 163]],\n",
       " \n",
       "         [[ 72,  96,  38, ...,  65, 124, 115],\n",
       "          [ 82,  96,  45, ...,  63, 139, 105],\n",
       "          [ 80, 100,  87, ...,  44, 130,  93],\n",
       "          [149, 118,   8, ..., 124,  33, 156]],\n",
       " \n",
       "         [[ 83,  87,  59, ...,  80, 126, 136],\n",
       "          [ 88,  86,  81, ...,  80, 161, 136],\n",
       "          [ 80,  86, 104, ...,  66, 122, 134],\n",
       "          [161, 108,  11, ..., 125,  30, 183]]],\n",
       " \n",
       " \n",
       "        [[[ 86,  83,  32, ..., 132, 101,  25],\n",
       "          [ 82,  79,  39, ..., 126, 107,  30],\n",
       "          [ 58,  75,  89, ..., 108,  94,  49],\n",
       "          [146, 103,   7, ..., 175,  14,  23]],\n",
       " \n",
       "         [[ 90,  87,  44, ..., 126,  70,  25],\n",
       "          [ 96,  84,  56, ..., 128, 102,  30],\n",
       "          [ 77,  77, 103, ..., 107,  79,  59],\n",
       "          [161, 114,   9, ..., 181,  10,  21]],\n",
       " \n",
       "         [[ 85,  91,  48, ...,  93,  16,  25],\n",
       "          [ 93,  84,  73, ...,  93,  18,  22],\n",
       "          [ 62,  73, 108, ...,  45,  62,  47],\n",
       "          [159, 118,  10, ..., 149,   5,  20]],\n",
       " \n",
       "         ...,\n",
       " \n",
       "         [[ 56,  93,  39, ...,  77, 137, 107],\n",
       "          [ 57,  92,  53, ...,  82, 145,  95],\n",
       "          [ 45,  93,  90, ...,  82, 132,  80],\n",
       "          [127, 109,   8, ..., 141,  31, 137]],\n",
       " \n",
       "         [[ 60,  92,  34, ...,  72, 140, 126],\n",
       "          [ 59,  91,  45, ...,  72, 155, 118],\n",
       "          [ 50,  95,  86, ...,  49, 136, 109],\n",
       "          [124, 112,   7, ..., 124,  33, 165]],\n",
       " \n",
       "         [[ 65,  90,  40, ...,  86, 108, 126],\n",
       "          [ 64,  89,  62, ...,  92, 113, 124],\n",
       "          [ 36,  90,  94, ...,  71, 125, 119],\n",
       "          [129, 111,   9, ..., 136,  22, 175]]],\n",
       " \n",
       " \n",
       "        [[[122,  90,  34, ..., 137,  55,  21],\n",
       "          [139,  84,  53, ..., 136,  64,  27],\n",
       "          [137,  84,  87, ..., 119,  93,  54],\n",
       "          [199, 109,   7, ..., 183,  12,  17]],\n",
       " \n",
       "         [[ 90,  88,  38, ..., 135,  35,  25],\n",
       "          [ 95,  79,  73, ..., 139,  51,  28],\n",
       "          [ 74,  76,  95, ..., 124,  81,  62],\n",
       "          [162, 105,   9, ..., 194,   8,  17]],\n",
       " \n",
       "         [[113,  90,  36, ..., 118,  14,  25],\n",
       "          [126,  80,  56, ..., 115,  23,  25],\n",
       "          [116,  76, 103, ...,  93,  65,  50],\n",
       "          [191, 113,   8, ..., 177,   4,  16]],\n",
       " \n",
       "         ...,\n",
       " \n",
       "         [[ 59,  95,  38, ...,  58, 136, 134],\n",
       "          [ 59,  92,  57, ...,  54, 157, 131],\n",
       "          [ 65,  94,  92, ...,  43, 134, 125],\n",
       "          [127, 113,   9, ..., 116,  38, 173]],\n",
       " \n",
       "         [[ 55, 103,  30, ...,  71, 142, 143],\n",
       "          [ 51, 101,  42, ...,  66, 167, 139],\n",
       "          [ 35, 111,  89, ...,  43, 137, 136],\n",
       "          [112, 127,   7, ..., 109,  42, 190]],\n",
       " \n",
       "         [[ 83,  95,  35, ...,  93, 131, 100],\n",
       "          [ 88,  93,  42, ..., 104, 159,  97],\n",
       "          [ 66,  95,  89, ...,  80, 123,  78],\n",
       "          [142, 118,   8, ..., 149,  32, 142]]],\n",
       " \n",
       " \n",
       "        ...,\n",
       " \n",
       " \n",
       "        [[[ 92,  95,  43, ..., 128,  24,  63],\n",
       "          [ 96,  89,  53, ..., 119,  35,  56],\n",
       "          [ 84,  83, 106, ..., 108,  77,  30],\n",
       "          [172, 133,  10, ..., 158,   5, 123]],\n",
       " \n",
       "         [[ 83,  95,  51, ..., 156,  23, 110],\n",
       "          [ 95,  88,  79, ..., 162,  30, 123],\n",
       "          [ 90,  81, 112, ..., 157,  83, 113],\n",
       "          [175, 132,  12, ..., 194,   5, 180]],\n",
       " \n",
       "         [[ 52,  92,  58, ..., 143,  33, 116],\n",
       "          [ 47,  85,  68, ..., 149,  30, 129],\n",
       "          [ 28,  76, 114, ..., 133,  87, 116],\n",
       "          [128, 130,  11, ..., 186,   7, 188]],\n",
       " \n",
       "         ...,\n",
       " \n",
       "         [[ 57,  93,  79, ...,  78,  74, 126],\n",
       "          [ 57,  86,  92, ...,  87,  79, 121],\n",
       "          [ 43,  70, 113, ...,  52,  99, 113],\n",
       "          [127, 140,  15, ..., 142,  14, 174]],\n",
       " \n",
       "         [[ 56,  84,  79, ...,  85,  37, 113],\n",
       "          [ 53,  77,  90, ..., 101,  39, 111],\n",
       "          [ 34,  57, 123, ...,  92,  98,  91],\n",
       "          [133, 122,  17, ..., 160,   9, 164]],\n",
       " \n",
       "         [[ 59,  90,  83, ...,  61,  28, 133],\n",
       "          [ 56,  84, 112, ...,  64,  46, 137],\n",
       "          [ 24,  75, 118, ...,  43,  90, 124],\n",
       "          [144, 127,  20, ..., 130,   8, 193]]],\n",
       " \n",
       " \n",
       "        [[[ 93,  98,  52, ..., 126,  25,  81],\n",
       "          [ 99,  94,  67, ..., 131,  27,  89],\n",
       "          [ 85,  94, 114, ..., 123,  72,  62],\n",
       "          [176, 135,  14, ..., 163,   5, 148]],\n",
       " \n",
       "         [[ 86,  96,  77, ..., 113,  40, 105],\n",
       "          [ 96,  92, 111, ..., 117,  53, 121],\n",
       "          [ 96,  91, 118, ...,  94,  79, 101],\n",
       "          [171, 136,  21, ..., 155,   6, 178]],\n",
       " \n",
       "         [[ 53,  97, 102, ..., 113,  57,  94],\n",
       "          [ 48,  92, 130, ..., 115,  65, 107],\n",
       "          [ 31,  89, 132, ...,  97,  86,  85],\n",
       "          [125, 138,  35, ..., 160,   9, 164]],\n",
       " \n",
       "         ...,\n",
       " \n",
       "         [[ 67, 105, 103, ...,  85,  94, 109],\n",
       "          [ 66, 107, 146, ...,  91, 106, 105],\n",
       "          [ 44, 100, 118, ...,  72, 110,  95],\n",
       "          [131, 169,  29, ..., 141,  15, 163]],\n",
       " \n",
       "         [[ 77, 106, 123, ..., 109,  50, 113],\n",
       "          [ 79, 106, 162, ..., 128,  39, 112],\n",
       "          [ 66, 101, 122, ..., 141,  95,  99],\n",
       "          [156, 165,  39, ..., 193,   8, 171]],\n",
       " \n",
       "         [[ 87,  93, 100, ...,  61,  39, 129],\n",
       "          [ 89,  89, 107, ...,  65,  46, 127],\n",
       "          [ 81,  79, 116, ...,  50,  97, 122],\n",
       "          [171, 135,  26, ..., 132,   7, 188]]],\n",
       " \n",
       " \n",
       "        [[[105,  93,  85, ...,  79,  23, 105],\n",
       "          [114,  91, 159, ...,  74,  33, 125],\n",
       "          [108,  91, 127, ...,  44,  71, 105],\n",
       "          [193, 126,  24, ..., 110,   5, 180]],\n",
       " \n",
       "         [[ 67,  92,  86, ...,  85,  40, 104],\n",
       "          [ 65,  89,  81, ...,  78,  35, 121],\n",
       "          [ 48,  88, 121, ...,  46,  84, 101],\n",
       "          [148, 127,  20, ..., 126,   8, 179]],\n",
       " \n",
       "         [[ 62,  93, 113, ..., 108,  67, 102],\n",
       "          [ 62,  89, 134, ..., 109,  80, 118],\n",
       "          [ 56,  86, 135, ...,  94,  91,  97],\n",
       "          [124, 127,  35, ..., 164,  13, 173]],\n",
       " \n",
       "         ...,\n",
       " \n",
       "         [[107, 101,  69, ..., 104,  59, 126],\n",
       "          [122,  99, 100, ..., 120,  91, 124],\n",
       "          [107,  91, 118, ..., 126, 111, 117],\n",
       "          [181, 157,  17, ..., 162,  15, 181]],\n",
       " \n",
       "         [[118,  95,  82, ...,  93,  49, 111],\n",
       "          [137,  92,  98, ..., 111,  52, 108],\n",
       "          [127,  84, 125, ..., 119,  97,  94],\n",
       "          [205, 143,  18, ..., 170,  11, 157]],\n",
       " \n",
       "         [[ 90,  89,  61, ...,  68,  47, 102],\n",
       "          [105,  85,  69, ...,  66,  56,  98],\n",
       "          [ 86,  76, 113, ...,  61, 102,  90],\n",
       "          [183, 130,  13, ..., 123,   9, 155]]]], dtype=uint8),\n",
       " 'train_y': array([[0, 0, 0, ..., 0, 0, 0],\n",
       "        [0, 1, 0, ..., 0, 0, 1],\n",
       "        [1, 0, 0, ..., 0, 0, 0],\n",
       "        [0, 0, 0, ..., 0, 1, 0],\n",
       "        [0, 0, 0, ..., 0, 0, 0],\n",
       "        [0, 0, 1, ..., 1, 0, 0]], dtype=uint8),\n",
       " 'test_y': array([[0, 0, 0, ..., 0, 0, 0],\n",
       "        [0, 0, 0, ..., 0, 0, 0],\n",
       "        [1, 1, 0, ..., 1, 0, 1],\n",
       "        [0, 0, 0, ..., 0, 0, 0],\n",
       "        [0, 0, 0, ..., 0, 0, 0],\n",
       "        [0, 0, 1, ..., 0, 1, 0]], dtype=uint8),\n",
       " 'annotations': array([[array(['100000'], dtype='<U6'), array(['building'], dtype='<U8')],\n",
       "        [array(['010000'], dtype='<U6'),\n",
       "         array(['barren land'], dtype='<U11')],\n",
       "        [array(['001000'], dtype='<U6'), array(['trees'], dtype='<U5')],\n",
       "        [array(['000100'], dtype='<U6'),\n",
       "         array(['grassland'], dtype='<U9')],\n",
       "        [array(['000010'], dtype='<U6'), array(['road'], dtype='<U4')],\n",
       "        [array(['000001'], dtype='<U6'), array(['water'], dtype='<U5')]],\n",
       "       dtype=object)}"
      ]
     },
     "execution_count": 12,
     "metadata": {},
     "output_type": "execute_result"
    }
   ],
   "source": [
    "data"
   ]
  },
  {
   "cell_type": "code",
   "execution_count": 48,
   "metadata": {},
   "outputs": [
    {
     "data": {
      "text/plain": [
       "dtype('uint8')"
      ]
     },
     "execution_count": 48,
     "metadata": {},
     "output_type": "execute_result"
    }
   ],
   "source": [
    "data['train_x'].dtype"
   ]
  },
  {
   "cell_type": "code",
   "execution_count": 14,
   "metadata": {},
   "outputs": [
    {
     "data": {
      "text/plain": [
       "dict_keys(['__header__', '__version__', '__globals__', 'train_x', 'test_x', 'train_y', 'test_y', 'annotations'])"
      ]
     },
     "execution_count": 14,
     "metadata": {},
     "output_type": "execute_result"
    }
   ],
   "source": [
    "data.keys()"
   ]
  },
  {
   "cell_type": "code",
   "execution_count": 15,
   "metadata": {},
   "outputs": [
    {
     "data": {
      "text/plain": [
       "b'MATLAB 5.0 MAT-file, Platform: MACI64, Created on: Thu Oct 23 20:53:12 2014'"
      ]
     },
     "execution_count": 15,
     "metadata": {},
     "output_type": "execute_result"
    }
   ],
   "source": [
    "data['__header__']"
   ]
  },
  {
   "cell_type": "code",
   "execution_count": 18,
   "metadata": {},
   "outputs": [
    {
     "data": {
      "text/plain": [
       "array([[array(['100000'], dtype='<U6'), array(['building'], dtype='<U8')],\n",
       "       [array(['010000'], dtype='<U6'),\n",
       "        array(['barren land'], dtype='<U11')],\n",
       "       [array(['001000'], dtype='<U6'), array(['trees'], dtype='<U5')],\n",
       "       [array(['000100'], dtype='<U6'),\n",
       "        array(['grassland'], dtype='<U9')],\n",
       "       [array(['000010'], dtype='<U6'), array(['road'], dtype='<U4')],\n",
       "       [array(['000001'], dtype='<U6'), array(['water'], dtype='<U5')]],\n",
       "      dtype=object)"
      ]
     },
     "execution_count": 18,
     "metadata": {},
     "output_type": "execute_result"
    }
   ],
   "source": [
    "data['annotations']"
   ]
  },
  {
   "cell_type": "code",
   "execution_count": 92,
   "metadata": {},
   "outputs": [
    {
     "data": {
      "text/plain": [
       "array([[0, 0, 0, ..., 0, 0, 0],\n",
       "       [0, 1, 0, ..., 0, 0, 1],\n",
       "       [1, 0, 0, ..., 0, 0, 0],\n",
       "       [0, 0, 0, ..., 0, 1, 0],\n",
       "       [0, 0, 0, ..., 0, 0, 0],\n",
       "       [0, 0, 1, ..., 1, 0, 0]], dtype=uint8)"
      ]
     },
     "execution_count": 92,
     "metadata": {},
     "output_type": "execute_result"
    }
   ],
   "source": [
    "data['train_y']"
   ]
  },
  {
   "cell_type": "code",
   "execution_count": 91,
   "metadata": {},
   "outputs": [
    {
     "name": "stdout",
     "output_type": "stream",
     "text": [
      "[0 0 0 ... 0 0 0]\n"
     ]
    },
    {
     "data": {
      "text/plain": [
       "<matplotlib.image.AxesImage at 0x7f5151015850>"
      ]
     },
     "execution_count": 91,
     "metadata": {},
     "output_type": "execute_result"
    },
    {
     "data": {
      "image/png": "[encoded data removed]",
      "text/plain": [
       "<Figure size 432x288 with 1 Axes>"
      ]
     },
     "metadata": {
      "needs_background": "light"
     },
     "output_type": "display_data"
    }
   ],
   "source": [
    "plt.imshow(data['train_x'][:,:,2,0])"
   ]
  },
  {
   "cell_type": "code",
   "execution_count": 88,
   "metadata": {},
   "outputs": [
    {
     "data": {
      "text/plain": [
       "(28, 28, 4, 324000)"
      ]
     },
     "execution_count": 88,
     "metadata": {},
     "output_type": "execute_result"
    }
   ],
   "source": [
    "data['train_x'].shape"
   ]
  },
  {
   "cell_type": "code",
   "execution_count": 87,
   "metadata": {},
   "outputs": [
    {
     "data": {
      "text/plain": [
       "3136"
      ]
     },
     "execution_count": 87,
     "metadata": {},
     "output_type": "execute_result"
    }
   ],
   "source": [
    "data['train_x'][:,:,:,0].size"
   ]
  },
  {
   "cell_type": "code",
   "execution_count": 82,
   "metadata": {},
   "outputs": [
    {
     "data": {
      "text/plain": [
       "1016064000"
      ]
     },
     "execution_count": 82,
     "metadata": {},
     "output_type": "execute_result"
    }
   ],
   "source": [
    "data['train_x'].size"
   ]
  },
  {
   "cell_type": "code",
   "execution_count": 81,
   "metadata": {},
   "outputs": [
    {
     "data": {
      "text/plain": [
       "(6, 324000)"
      ]
     },
     "execution_count": 81,
     "metadata": {},
     "output_type": "execute_result"
    }
   ],
   "source": [
    "data['train_y'].shape"
   ]
  },
  {
   "cell_type": "code",
   "execution_count": null,
   "metadata": {},
   "outputs": [],
   "source": [
    "df = pd.read_csv('../data/raw/X_train_sat6.csv')\n",
    "df"
   ]
  },
  {
   "cell_type": "code",
   "execution_count": 12,
   "metadata": {},
   "outputs": [
    {
     "data": {
      "text/plain": [
       "{'building': [1, 0, 0, 0, 0, 0],\n",
       " 'barren_land': [1, 0, 0, 0, 0, 0],\n",
       " 'trees': [1, 0, 0, 0, 0, 0],\n",
       " 'grassland': [1, 0, 0, 0, 0, 0],\n",
       " 'road': [1, 0, 0, 0, 0, 0],\n",
       " 'water': [1, 0, 0, 0, 0, 0]}"
      ]
     },
     "execution_count": 12,
     "metadata": {},
     "output_type": "execute_result"
    }
   ],
   "source": [
    "annotations = pd.read_csv('../data/raw/sat6annotations.csv', header=None)\n",
    "annots_dict = {}\n",
    "for i in range(len(annotations)):\n",
    "  annots_dict[ annotations.loc[i][0]] = (annotations.loc[0][1:].values).tolist()\n",
    "annots_dict"
   ]
  },
  {
   "cell_type": "code",
   "execution_count": 2,
   "metadata": {},
   "outputs": [
    {
     "ename": "NameError",
     "evalue": "name 'data' is not defined",
     "output_type": "error",
     "traceback": [
      "\u001b[0;31m---------------------------------------------------------------------------\u001b[0m",
      "\u001b[0;31mNameError\u001b[0m                                 Traceback (most recent call last)",
      "\u001b[0;32m<ipython-input-2-3d060a8cc756>\u001b[0m in \u001b[0;36m<module>\u001b[0;34m\u001b[0m\n\u001b[0;32m----> 1\u001b[0;31m \u001b[0mdata\u001b[0m\u001b[0;34m[\u001b[0m\u001b[0;34m'train_x'\u001b[0m\u001b[0;34m]\u001b[0m\u001b[0;34m[\u001b[0m\u001b[0;34m:\u001b[0m\u001b[0;34m,\u001b[0m\u001b[0;34m:\u001b[0m\u001b[0;34m,\u001b[0m\u001b[0;34m:\u001b[0m\u001b[0;34m]\u001b[0m\u001b[0;34m\u001b[0m\u001b[0;34m\u001b[0m\u001b[0m\n\u001b[0m",
      "\u001b[0;31mNameError\u001b[0m: name 'data' is not defined"
     ]
    }
   ],
   "source": [
    "data['train_x'][:,:,:]"
   ]
  },
  {
   "cell_type": "code",
   "execution_count": 56,
   "metadata": {},
   "outputs": [
    {
     "name": "stdout",
     "output_type": "stream",
     "text": [
      "data\t       flask.py     models     README.md   requirements.txt  testing\n",
      "Dockerfile     kaggle.json  notebooks  references  setup.py\n",
      "file_plan.txt  LICENSE\t    outputs    reports\t   src\n"
     ]
    }
   ],
   "source": [
    "!ls .."
   ]
  },
  {
   "cell_type": "code",
   "execution_count": 60,
   "metadata": {},
   "outputs": [
    {
     "name": "stdout",
     "output_type": "stream",
     "text": [
      "DATA_PATH\t annotations\t annots_dict\t data\t datafile\t get_file_paths\t i\t loadmat\t make_dataset\t \n",
      "module_path\t np\t os\t pd\t plt\t sys\t \n"
     ]
    }
   ],
   "source": [
    "who"
   ]
  },
  {
   "cell_type": "code",
   "execution_count": null,
   "metadata": {},
   "outputs": [],
   "source": []
  }
 ],
 "metadata": {
  "kernelspec": {
   "display_name": "Python 3",
   "language": "python",
   "name": "python3"
  },
  "language_info": {
   "codemirror_mode": {
    "name": "ipython",
    "version": 3
   },
   "file_extension": ".py",
   "mimetype": "text/x-python",
   "name": "python",
   "nbconvert_exporter": "python",
   "pygments_lexer": "ipython3",
   "version": "3.8.5"
  }
 },
 "nbformat": 4,
 "nbformat_minor": 5
}
