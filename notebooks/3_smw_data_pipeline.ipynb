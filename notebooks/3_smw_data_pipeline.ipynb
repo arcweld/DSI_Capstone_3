{
  "nbformat": 4,
  "nbformat_minor": 0,
  "metadata": {
    "colab": {
      "name": "3-smw-data-pipeline.ipynb",
      "provenance": [],
      "collapsed_sections": [],
      "machine_shape": "hm",
      "authorship_tag": "ABX9TyM7YEe1A9Wa83gGGcHKzFWk",
      "include_colab_link": true
    },
    "kernelspec": {
      "name": "python3",
      "display_name": "Python 3"
    },
    "language_info": {
      "name": "python"
    }
  },
  "cells": [
    {
      "cell_type": "markdown",
      "metadata": {
        "id": "view-in-github",
        "colab_type": "text"
      },
      "source": [
        "<a href=\"https://colab.research.google.com/github/arcweld/DSI_Capstone_3/blob/main/notebooks/3_smw_data_pipeline.ipynb\" target=\"_parent\"><img src=\"https://colab.research.google.com/assets/colab-badge.svg\" alt=\"Open In Colab\"/></a>"
      ]
    },
    {
      "cell_type": "code",
      "metadata": {
        "colab": {
          "base_uri": "https://localhost:8080/"
        },
        "id": "QbSrdEejOzIn",
        "outputId": "df4a3c3b-2a4d-4dd9-d1d1-3ae847e67375"
      },
      "source": [
        "from google.colab import drive\n",
        "drive.mount('/drive/')"
      ],
      "execution_count": 6,
      "outputs": [
        {
          "output_type": "stream",
          "text": [
            "Mounted at /drive/\n"
          ],
          "name": "stdout"
        }
      ]
    },
    {
      "cell_type": "code",
      "metadata": {
        "id": "h8xHUt9cgLZG"
      },
      "source": [
        "import sys\n",
        "import os"
      ],
      "execution_count": 7,
      "outputs": []
    },
    {
      "cell_type": "code",
      "metadata": {
        "id": "l7ZDAVCaPKgq"
      },
      "source": [
        "sys.path.append('/drive/MyDrive/Galvanize/Capstone3/')\n",
        "sys.path.append('/drive/MyDrive/Galvanize/Capstone3/src/')"
      ],
      "execution_count": 8,
      "outputs": []
    },
    {
      "cell_type": "code",
      "metadata": {
        "colab": {
          "base_uri": "https://localhost:8080/"
        },
        "id": "Y1Xe322lYDiJ",
        "outputId": "41030e2d-26c0-459f-fc11-d3ef04469778"
      },
      "source": [
        "drive.mount(\"/drive/\", force_remount=True)"
      ],
      "execution_count": null,
      "outputs": [
        {
          "output_type": "stream",
          "text": [
            "Mounted at /drive/\n"
          ],
          "name": "stdout"
        }
      ]
    },
    {
      "cell_type": "code",
      "metadata": {
        "id": "DXoOG_LERA4L"
      },
      "source": [
        "os.environ['KAGGLE_CONFIG_DIR'] = \"/drive/MyDrive/Galvanize/Capstone3/data/raw\""
      ],
      "execution_count": 45,
      "outputs": []
    },
    {
      "cell_type": "code",
      "metadata": {
        "id": "I1fp7htkhbwm",
        "outputId": "5dd25437-4f31-4adf-e64c-e967ba4e6dc2",
        "colab": {
          "base_uri": "https://localhost:8080/"
        }
      },
      "source": [
        "%cd data/raw/"
      ],
      "execution_count": 48,
      "outputs": [
        {
          "output_type": "stream",
          "text": [
            "/drive/My Drive/Galvanize/DSI_Capstone_3/data/raw\n"
          ],
          "name": "stdout"
        }
      ]
    },
    {
      "cell_type": "code",
      "metadata": {
        "id": "740tE0MVhiXz",
        "outputId": "6da4d321-2611-4d66-8ffb-0cfb2e03a6d2",
        "colab": {
          "base_uri": "https://localhost:8080/"
        }
      },
      "source": [
        "!ls"
      ],
      "execution_count": 9,
      "outputs": [
        {
          "output_type": "stream",
          "text": [
            "sample_data\n"
          ],
          "name": "stdout"
        }
      ]
    },
    {
      "cell_type": "code",
      "metadata": {
        "colab": {
          "base_uri": "https://localhost:8080/"
        },
        "id": "G6f-h_s8R5vv",
        "outputId": "6fa4c948-c980-429f-8563-48883f6d9310"
      },
      "source": [
        "!kaggle datasets download -d crawford/deepsat-sat6 --force"
      ],
      "execution_count": 49,
      "outputs": [
        {
          "output_type": "stream",
          "text": [
            "Traceback (most recent call last):\n",
            "  File \"/usr/local/bin/kaggle\", line 5, in <module>\n",
            "    from kaggle.cli import main\n",
            "  File \"/usr/local/lib/python2.7/dist-packages/kaggle/__init__.py\", line 23, in <module>\n",
            "    api.authenticate()\n",
            "  File \"/usr/local/lib/python2.7/dist-packages/kaggle/api/kaggle_api_extended.py\", line 146, in authenticate\n",
            "    self.config_file, self.config_dir))\n",
            "IOError: Could not find kaggle.json. Make sure it's located in ../drive/MyDrive/Galvanize/Capstone3/data/raw. Or use the environment method.\n"
          ],
          "name": "stdout"
        }
      ]
    },
    {
      "cell_type": "code",
      "metadata": {
        "colab": {
          "base_uri": "https://localhost:8080/"
        },
        "id": "7R6BlvvsSLaI",
        "outputId": "a1bffb4c-7b92-479e-ac00-6c8144f0ce4f"
      },
      "source": [
        "!unzip deepsat-sat6.zip"
      ],
      "execution_count": 53,
      "outputs": [
        {
          "output_type": "stream",
          "text": [
            "Archive:  deepsat-sat6.zip\n",
            "replace X_test_sat6.csv? [y]es, [n]o, [A]ll, [N]one, [r]ename: N\n",
            "  inflating: X_train_sat6.csv        \n"
          ],
          "name": "stdout"
        }
      ]
    },
    {
      "cell_type": "code",
      "metadata": {
        "colab": {
          "base_uri": "https://localhost:8080/"
        },
        "id": "_8hdASWcZU-k",
        "outputId": "2884b12d-799a-4b34-eeda-787702ec400e"
      },
      "source": [
        "%cd  ../drive/MyDrive/Galvanize/DSI_Capstone_3/"
      ],
      "execution_count": 10,
      "outputs": [
        {
          "output_type": "stream",
          "text": [
            "/drive/MyDrive/Galvanize/DSI_Capstone_3\n"
          ],
          "name": "stdout"
        }
      ]
    },
    {
      "cell_type": "code",
      "metadata": {
        "colab": {
          "base_uri": "https://localhost:8080/"
        },
        "id": "lHXyX5_5ZYqD",
        "outputId": "55b31d4c-1849-4423-d40a-f32fe7dc19d2"
      },
      "source": [
        "!git clone https://github.com/arcweld/DSI_Capstone_3.git"
      ],
      "execution_count": 10,
      "outputs": [
        {
          "output_type": "stream",
          "text": [
            "Cloning into 'DSI_Capstone_3'...\n",
            "remote: Enumerating objects: 583, done.\u001b[K\n",
            "remote: Counting objects: 100% (583/583), done.\u001b[K\n",
            "remote: Compressing objects: 100% (480/480), done.\u001b[K\n",
            "remote: Total 583 (delta 89), reused 558 (delta 68), pack-reused 0\u001b[K\n",
            "Receiving objects: 100% (583/583), 4.72 MiB | 5.17 MiB/s, done.\n",
            "Resolving deltas: 100% (89/89), done.\n"
          ],
          "name": "stdout"
        }
      ]
    },
    {
      "cell_type": "code",
      "metadata": {
        "id": "woqhdPaoeuAa"
      },
      "source": [
        "%mv data/ DSI_Capstone_3/"
      ],
      "execution_count": 11,
      "outputs": []
    },
    {
      "cell_type": "code",
      "metadata": {
        "id": "OxKmtZ24fBLJ",
        "outputId": "2dfc4d02-6e2c-4615-d59e-a8fe1a4f8fb4",
        "colab": {
          "base_uri": "https://localhost:8080/"
        }
      },
      "source": [
        "%cd MyDrive/Galvanize/DSI_Capstone_3/"
      ],
      "execution_count": 34,
      "outputs": [
        {
          "output_type": "stream",
          "text": [
            "/drive/MyDrive/Galvanize/DSI_Capstone_3\n"
          ],
          "name": "stdout"
        }
      ]
    },
    {
      "cell_type": "code",
      "metadata": {
        "id": "NC6Wg1Emg7-j",
        "outputId": "0bb92adc-7e00-4196-855b-93a219ae9e4c",
        "colab": {
          "base_uri": "https://localhost:8080/"
        }
      },
      "source": [
        "!ls "
      ],
      "execution_count": 35,
      "outputs": [
        {
          "output_type": "stream",
          "text": [
            "data\t       flask.py     models     references\t setup.py\n",
            "Dockerfile     kaggle.json  notebooks  reports\t\t src\n",
            "file_plan.txt  LICENSE\t    README.md  requirements.txt  testing\n"
          ],
          "name": "stdout"
        }
      ]
    },
    {
      "cell_type": "code",
      "metadata": {
        "id": "pj-bJUW0fIbE",
        "outputId": "b493217c-172d-4e02-fe19-af756fd1eab1",
        "colab": {
          "base_uri": "https://localhost:8080/"
        }
      },
      "source": [
        "!git pull"
      ],
      "execution_count": 36,
      "outputs": [
        {
          "output_type": "stream",
          "text": [
            "remote: Enumerating objects: 9, done.\u001b[K\n",
            "remote: Counting objects:  11% (1/9)\u001b[K\rremote: Counting objects:  22% (2/9)\u001b[K\rremote: Counting objects:  33% (3/9)\u001b[K\rremote: Counting objects:  44% (4/9)\u001b[K\rremote: Counting objects:  55% (5/9)\u001b[K\rremote: Counting objects:  66% (6/9)\u001b[K\rremote: Counting objects:  77% (7/9)\u001b[K\rremote: Counting objects:  88% (8/9)\u001b[K\rremote: Counting objects: 100% (9/9)\u001b[K\rremote: Counting objects: 100% (9/9), done.\u001b[K\n",
            "remote: Compressing objects:  33% (1/3)\u001b[K\rremote: Compressing objects:  66% (2/3)\u001b[K\rremote: Compressing objects: 100% (3/3)\u001b[K\rremote: Compressing objects: 100% (3/3), done.\u001b[K\n",
            "remote: Total 5 (delta 2), reused 5 (delta 2), pack-reused 0\u001b[K\n",
            "Unpacking objects: 100% (5/5), done.\n",
            "From https://github.com/arcweld/DSI_Capstone_3\n",
            "   bc9a8fa..4f41a66  main       -> origin/main\n",
            "Updating bc9a8fa..4f41a66\n",
            "Fast-forward\n",
            " src/__init__.py           | 2 \u001b[32m++\u001b[m\n",
            " src/models/train_model.py | 9 \u001b[32m+++++++\u001b[m\u001b[31m--\u001b[m\n",
            " 2 files changed, 9 insertions(+), 2 deletions(-)\n"
          ],
          "name": "stdout"
        }
      ]
    },
    {
      "cell_type": "code",
      "metadata": {
        "id": "o8-jUH4mPNmC"
      },
      "source": [
        "from src.data import make_dataset"
      ],
      "execution_count": 12,
      "outputs": []
    },
    {
      "cell_type": "code",
      "metadata": {
        "id": "Kpr2u3YASKko"
      },
      "source": [
        "X, y = make_dataset.fetch_training_data(data_path=os.path.join('/drive/MyDrive/Galvanize/','DSI_Capstone_3','data','raw'))"
      ],
      "execution_count": 13,
      "outputs": []
    },
    {
      "cell_type": "code",
      "metadata": {
        "id": "YupCEHAhnJEE"
      },
      "source": [
        "X_test, y_test = make_dataset.fetch_testing_data(data_path=os.path.join('/drive/MyDrive/Galvanize/','DSI_Capstone_3','data','raw'))"
      ],
      "execution_count": 23,
      "outputs": []
    },
    {
      "cell_type": "code",
      "metadata": {
        "id": "c9QJ672jojtJ",
        "outputId": "0065ce5f-40a1-4dee-b61d-18ec4049ad3e",
        "colab": {
          "base_uri": "https://localhost:8080/"
        }
      },
      "source": [
        "!cat src/models/train_model.py"
      ],
      "execution_count": 39,
      "outputs": [
        {
          "output_type": "stream",
          "text": [
            "#!/usr/bin/env python\n",
            "# -*- coding: utf-8 -*-\n",
            "\n",
            "import os\n",
            "\n",
            "import tensorflow as tf\n",
            "from tensorflow.keras.callbacks import TensorBoard, ModelCheckpoint\n",
            "from tensorflow.keras.layers import Conv2D, MaxPool2D, Dense, Dropout, Flatten\n",
            "from tensorflow.keras.models import Sequential\n",
            "\n",
            "def define_model():\n",
            "    model = Sequential()\n",
            "    model.add(Conv2D(16, (3,3), activation='relu', input_shape=(28,28,4)))\n",
            "    model.add(Conv2D(32, (3,3), activation='relu'))\n",
            "    model.add(MaxPool2D(pool_size=(2,2)))\n",
            "    model.add(Dropout(0.5))\n",
            "    model.add(Conv2D(32, (3,3), activation='relu'))\n",
            "    model.add(Conv2D(64, (3,3), activation='relu'))\n",
            "    model.add(MaxPool2D(pool_size=(2,2)))\n",
            "    model.add(Dropout(0.5))\n",
            "    model.add(Flatten())\n",
            "    model.add(Dense(128, activation='relu'))\n",
            "    model.add(Dropout(0.5))\n",
            "    model.add(Dense(6, activation='softmax'))\n",
            "\n",
            "    return model\n",
            "\n",
            "# model.compile(loss='categorical_crossentropy', optimizer='adam', metrics=['accuracy'])\n",
            "\n",
            "\n",
            "def train_model(model, X, y, X_test, y_test):\n",
            "    tbcallback = TensorBoard(log_dir='./logs/', histogram_freq=1, write_graph=True)\n",
            "    checkpoint_path = os.path.join('..','..','models','checkpoints.ckpt')\n",
            "    checkpoint_dir = os.path.dirname(checkpoint_path)\n",
            "    cp_callback = ModelCheckpoint(filepath=checkpoint_path,\n",
            "                                         save_weights_only=True,\n",
            "                                         verbose=1)\n",
            "\n",
            "    model.fit(X, y, batch_size=200, epochs=100, verbose=1, validation_data=(X_test, y_test), callbacks=[tbcallback, cp_callback])\n",
            "    model.save_weights(os.path.join('..','..','models','model_weights'))\n",
            "\n",
            "\n",
            "if __name__ == \"__main__\":\n",
            "    define_model()\n"
          ],
          "name": "stdout"
        }
      ]
    },
    {
      "cell_type": "code",
      "metadata": {
        "id": "tz25jfPXfjcP"
      },
      "source": [
        "from src.models import train_model"
      ],
      "execution_count": 37,
      "outputs": []
    },
    {
      "cell_type": "code",
      "metadata": {
        "id": "sIv6WeNvmVEV"
      },
      "source": [
        "model = train_model.define_model()"
      ],
      "execution_count": 18,
      "outputs": []
    },
    {
      "cell_type": "code",
      "metadata": {
        "id": "CghxkkQKmcsz"
      },
      "source": [
        "import tensorflow as tf\n",
        "from tensorflow.keras.callbacks import TensorBoard, ModelCheckpoint\n",
        "from tensorflow.keras.layers import Conv2D, MaxPool2D, Dense, Dropout, Flatten\n",
        "from tensorflow.keras.models import Sequential\n",
        "\n",
        "\n",
        "model = Sequential()\n",
        "model.add(Conv2D(16, (3,3), activation='relu', input_shape=(28,28,4)))\n",
        "model.add(Conv2D(32, (3,3), activation='relu'))\n",
        "model.add(MaxPool2D(pool_size=(2,2)))\n",
        "model.add(Dropout(0.5))\n",
        "model.add(Conv2D(32, (3,3), activation='relu'))\n",
        "model.add(Conv2D(64, (3,3), activation='relu'))\n",
        "model.add(MaxPool2D(pool_size=(2,2)))\n",
        "model.add(Dropout(0.5))\n",
        "model.add(Flatten())\n",
        "model.add(Dense(128, activation='relu'))\n",
        "model.add(Dropout(0.5))\n",
        "model.add(Dense(6, activation='softmax'))\n",
        "\n",
        "model.compile(loss='categorical_crossentropy', optimizer='adam', metrics=['accuracy'])"
      ],
      "execution_count": 21,
      "outputs": []
    },
    {
      "cell_type": "code",
      "metadata": {
        "id": "mT9WfnFUm0Jf",
        "outputId": "d4bf2b0d-ed37-4fb1-88fb-9f7062eadb1c",
        "colab": {
          "base_uri": "https://localhost:8080/"
        }
      },
      "source": [
        "model.summary()"
      ],
      "execution_count": 22,
      "outputs": [
        {
          "output_type": "stream",
          "text": [
            "Model: \"sequential_2\"\n",
            "_________________________________________________________________\n",
            "Layer (type)                 Output Shape              Param #   \n",
            "=================================================================\n",
            "conv2d_8 (Conv2D)            (None, 26, 26, 16)        592       \n",
            "_________________________________________________________________\n",
            "conv2d_9 (Conv2D)            (None, 24, 24, 32)        4640      \n",
            "_________________________________________________________________\n",
            "max_pooling2d_4 (MaxPooling2 (None, 12, 12, 32)        0         \n",
            "_________________________________________________________________\n",
            "dropout_6 (Dropout)          (None, 12, 12, 32)        0         \n",
            "_________________________________________________________________\n",
            "conv2d_10 (Conv2D)           (None, 10, 10, 32)        9248      \n",
            "_________________________________________________________________\n",
            "conv2d_11 (Conv2D)           (None, 8, 8, 64)          18496     \n",
            "_________________________________________________________________\n",
            "max_pooling2d_5 (MaxPooling2 (None, 4, 4, 64)          0         \n",
            "_________________________________________________________________\n",
            "dropout_7 (Dropout)          (None, 4, 4, 64)          0         \n",
            "_________________________________________________________________\n",
            "flatten_2 (Flatten)          (None, 1024)              0         \n",
            "_________________________________________________________________\n",
            "dense_4 (Dense)              (None, 128)               131200    \n",
            "_________________________________________________________________\n",
            "dropout_8 (Dropout)          (None, 128)               0         \n",
            "_________________________________________________________________\n",
            "dense_5 (Dense)              (None, 6)                 774       \n",
            "=================================================================\n",
            "Total params: 164,950\n",
            "Trainable params: 164,950\n",
            "Non-trainable params: 0\n",
            "_________________________________________________________________\n"
          ],
          "name": "stdout"
        }
      ]
    },
    {
      "cell_type": "code",
      "metadata": {
        "id": "qmHEsJbem-kH",
        "outputId": "1676aff6-bb2b-4685-d986-8117cfe7aa5a",
        "colab": {
          "base_uri": "https://localhost:8080/",
          "height": 310
        }
      },
      "source": [
        "tbcallback = TensorBoard(log_dir='./logs/', histogram_freq=1, write_graph=True)\n",
        "checkpoint_path = os.path.join('..','..','models','checkpoints.ckpt')\n",
        "checkpoint_dir = os.path.dirname(checkpoint_path)\n",
        "# cp_callback = ModelCheckpoint(filepath=checkpoint_path,\n",
        "#                                       save_weights_only=True,\n",
        "#                                       verbose=1)\n",
        "\n",
        "model.fit(X, y, batch_size=200, epochs=100, verbose=1, validation_data=(X_test, y_test), callbacks=[tbcallback, cp_callback])\n",
        "# model.save_weights(os.path.join('..','..','models','model_weights'))"
      ],
      "execution_count": 1,
      "outputs": [
        {
          "output_type": "error",
          "ename": "NameError",
          "evalue": "ignored",
          "traceback": [
            "\u001b[0;31m---------------------------------------------------------------------------\u001b[0m",
            "\u001b[0;31mNameError\u001b[0m                                 Traceback (most recent call last)",
            "\u001b[0;32m<ipython-input-1-b0fb756b7ea2>\u001b[0m in \u001b[0;36m<module>\u001b[0;34m()\u001b[0m\n\u001b[0;32m----> 1\u001b[0;31m \u001b[0mtbcallback\u001b[0m \u001b[0;34m=\u001b[0m \u001b[0mTensorBoard\u001b[0m\u001b[0;34m(\u001b[0m\u001b[0mlog_dir\u001b[0m\u001b[0;34m=\u001b[0m\u001b[0;34m'./logs/'\u001b[0m\u001b[0;34m,\u001b[0m \u001b[0mhistogram_freq\u001b[0m\u001b[0;34m=\u001b[0m\u001b[0;36m1\u001b[0m\u001b[0;34m,\u001b[0m \u001b[0mwrite_graph\u001b[0m\u001b[0;34m=\u001b[0m\u001b[0;32mTrue\u001b[0m\u001b[0;34m)\u001b[0m\u001b[0;34m\u001b[0m\u001b[0;34m\u001b[0m\u001b[0m\n\u001b[0m\u001b[1;32m      2\u001b[0m \u001b[0mcheckpoint_path\u001b[0m \u001b[0;34m=\u001b[0m \u001b[0mos\u001b[0m\u001b[0;34m.\u001b[0m\u001b[0mpath\u001b[0m\u001b[0;34m.\u001b[0m\u001b[0mjoin\u001b[0m\u001b[0;34m(\u001b[0m\u001b[0;34m'..'\u001b[0m\u001b[0;34m,\u001b[0m\u001b[0;34m'..'\u001b[0m\u001b[0;34m,\u001b[0m\u001b[0;34m'models'\u001b[0m\u001b[0;34m,\u001b[0m\u001b[0;34m'checkpoints.ckpt'\u001b[0m\u001b[0;34m)\u001b[0m\u001b[0;34m\u001b[0m\u001b[0;34m\u001b[0m\u001b[0m\n\u001b[1;32m      3\u001b[0m \u001b[0mcheckpoint_dir\u001b[0m \u001b[0;34m=\u001b[0m \u001b[0mos\u001b[0m\u001b[0;34m.\u001b[0m\u001b[0mpath\u001b[0m\u001b[0;34m.\u001b[0m\u001b[0mdirname\u001b[0m\u001b[0;34m(\u001b[0m\u001b[0mcheckpoint_path\u001b[0m\u001b[0;34m)\u001b[0m\u001b[0;34m\u001b[0m\u001b[0;34m\u001b[0m\u001b[0m\n\u001b[1;32m      4\u001b[0m \u001b[0;31m# cp_callback = ModelCheckpoint(filepath=checkpoint_path,\u001b[0m\u001b[0;34m\u001b[0m\u001b[0;34m\u001b[0m\u001b[0;34m\u001b[0m\u001b[0m\n\u001b[1;32m      5\u001b[0m \u001b[0;31m#                                       save_weights_only=True,\u001b[0m\u001b[0;34m\u001b[0m\u001b[0;34m\u001b[0m\u001b[0;34m\u001b[0m\u001b[0m\n",
            "\u001b[0;31mNameError\u001b[0m: name 'TensorBoard' is not defined"
          ]
        }
      ]
    },
    {
      "cell_type": "code",
      "metadata": {
        "id": "dBxB_FePoPPf"
      },
      "source": [
        ""
      ],
      "execution_count": null,
      "outputs": []
    }
  ]
}