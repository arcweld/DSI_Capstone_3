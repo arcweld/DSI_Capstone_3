{
  "nbformat": 4,
  "nbformat_minor": 0,
  "metadata": {
    "colab": {
      "name": "4_production_model.ipynb",
      "provenance": [],
      "authorship_tag": "ABX9TyNwdMBpu+wqyDgZ7FFRtWYR",
      "include_colab_link": true
    },
    "kernelspec": {
      "name": "python3",
      "display_name": "Python 3"
    },
    "language_info": {
      "name": "python"
    }
  },
  "cells": [
    {
      "cell_type": "markdown",
      "metadata": {
        "id": "view-in-github",
        "colab_type": "text"
      },
      "source": [
        "<a href=\"https://colab.research.google.com/github/arcweld/DSI_Capstone_3/blob/main/notebooks/4_1_smw_prod_model.ipynb\" target=\"_parent\"><img src=\"https://colab.research.google.com/assets/colab-badge.svg\" alt=\"Open In Colab\"/></a>"
      ]
    },
    {
      "cell_type": "code",
      "metadata": {
        "id": "hWLcx2YN2d6A"
      },
      "source": [
        "import sys\n",
        "import os\n",
        "from google.colab import drive"
      ],
      "execution_count": 1,
      "outputs": []
    },
    {
      "cell_type": "code",
      "metadata": {
        "id": "WL6TgCqO2mo2"
      },
      "source": [
        "import tensorflow as tf\n",
        "import pandas as pd\n",
        "import numpy as np\n",
        "import matplotlib.pyplot as plt"
      ],
      "execution_count": 31,
      "outputs": []
    },
    {
      "cell_type": "code",
      "metadata": {
        "id": "sBJSN0o_p7Gu",
        "outputId": "ae4c3262-f211-4294-d987-d1986a71324b",
        "colab": {
          "base_uri": "https://localhost:8080/"
        }
      },
      "source": [
        "!ls src/data/"
      ],
      "execution_count": 10,
      "outputs": [
        {
          "output_type": "stream",
          "text": [
            "make_dataset.py  __pycache__\n"
          ],
          "name": "stdout"
        }
      ]
    },
    {
      "cell_type": "code",
      "metadata": {
        "id": "yOW3Y7_Ep1SG"
      },
      "source": [
        "from src.data import make_dataset\n",
        "# from src.data.make_dataset import fetch_testing_data"
      ],
      "execution_count": 16,
      "outputs": []
    },
    {
      "cell_type": "code",
      "metadata": {
        "colab": {
          "base_uri": "https://localhost:8080/"
        },
        "id": "yRVlM1UC2qNR",
        "outputId": "45ebc57f-2547-471a-d13b-bb4590cb5c6c"
      },
      "source": [
        "drive.mount('/drive/')"
      ],
      "execution_count": 3,
      "outputs": [
        {
          "output_type": "stream",
          "text": [
            "Mounted at /drive/\n"
          ],
          "name": "stdout"
        }
      ]
    },
    {
      "cell_type": "code",
      "metadata": {
        "colab": {
          "base_uri": "https://localhost:8080/"
        },
        "id": "-br777mD2xTQ",
        "outputId": "6bd8d858-d752-4a28-aa27-88592f1c0652"
      },
      "source": [
        "%cd ~/../drive/My Drive/Galvanize/DSI_Capstone_3/"
      ],
      "execution_count": 4,
      "outputs": [
        {
          "output_type": "stream",
          "text": [
            "/drive/My Drive/Galvanize/DSI_Capstone_3\n"
          ],
          "name": "stdout"
        }
      ]
    },
    {
      "cell_type": "code",
      "metadata": {
        "id": "saQHonOu2ekq"
      },
      "source": [
        "model_path = os.path.join('models','model_weights')\n",
        "restored_model = tf.keras.models.load_model(model_path)"
      ],
      "execution_count": 5,
      "outputs": []
    },
    {
      "cell_type": "code",
      "metadata": {
        "colab": {
          "base_uri": "https://localhost:8080/"
        },
        "id": "eaWEuEnR3CQh",
        "outputId": "9e6139d6-68ce-429f-e3d5-4a981bb1d37c"
      },
      "source": [
        "restored_model.summary()"
      ],
      "execution_count": 6,
      "outputs": [
        {
          "output_type": "stream",
          "text": [
            "Model: \"sequential\"\n",
            "_________________________________________________________________\n",
            "Layer (type)                 Output Shape              Param #   \n",
            "=================================================================\n",
            "conv2d (Conv2D)              (None, 26, 26, 16)        592       \n",
            "_________________________________________________________________\n",
            "conv2d_1 (Conv2D)            (None, 24, 24, 32)        4640      \n",
            "_________________________________________________________________\n",
            "max_pooling2d (MaxPooling2D) (None, 12, 12, 32)        0         \n",
            "_________________________________________________________________\n",
            "dropout (Dropout)            (None, 12, 12, 32)        0         \n",
            "_________________________________________________________________\n",
            "conv2d_2 (Conv2D)            (None, 10, 10, 32)        9248      \n",
            "_________________________________________________________________\n",
            "conv2d_3 (Conv2D)            (None, 8, 8, 64)          18496     \n",
            "_________________________________________________________________\n",
            "max_pooling2d_1 (MaxPooling2 (None, 4, 4, 64)          0         \n",
            "_________________________________________________________________\n",
            "dropout_1 (Dropout)          (None, 4, 4, 64)          0         \n",
            "_________________________________________________________________\n",
            "flatten (Flatten)            (None, 1024)              0         \n",
            "_________________________________________________________________\n",
            "dense (Dense)                (None, 128)               131200    \n",
            "_________________________________________________________________\n",
            "dropout_2 (Dropout)          (None, 128)               0         \n",
            "_________________________________________________________________\n",
            "dense_1 (Dense)              (None, 6)                 774       \n",
            "=================================================================\n",
            "Total params: 164,950\n",
            "Trainable params: 164,950\n",
            "Non-trainable params: 0\n",
            "_________________________________________________________________\n"
          ],
          "name": "stdout"
        }
      ]
    },
    {
      "cell_type": "code",
      "metadata": {
        "id": "8w6O2jG2poMn"
      },
      "source": [
        "X_test, y_test = make_dataset.fetch_testing_data()"
      ],
      "execution_count": 19,
      "outputs": []
    },
    {
      "cell_type": "code",
      "metadata": {
        "id": "dGJBF9wE3Od0"
      },
      "source": [
        "y_pred = restored_model.predict(X_test)"
      ],
      "execution_count": 20,
      "outputs": []
    },
    {
      "cell_type": "code",
      "metadata": {
        "id": "ElKTxqUPuSK9",
        "outputId": "8a9b64b8-ffbd-4080-ab0a-41f2b61fbca6",
        "colab": {
          "base_uri": "https://localhost:8080/"
        }
      },
      "source": [
        "X_test.shape"
      ],
      "execution_count": 53,
      "outputs": [
        {
          "output_type": "execute_result",
          "data": {
            "text/plain": [
              "(81000, 28, 28, 4)"
            ]
          },
          "metadata": {
            "tags": []
          },
          "execution_count": 53
        }
      ]
    },
    {
      "cell_type": "code",
      "metadata": {
        "id": "4yFc7OYKxl2N"
      },
      "source": [
        "labels_dict = {0: 'building',\n",
        " 1: 'barren_land',\n",
        " 2: 'trees',\n",
        " 3: 'grassland',\n",
        " 4: 'road',\n",
        " 5: 'water'}"
      ],
      "execution_count": 107,
      "outputs": []
    },
    {
      "cell_type": "code",
      "metadata": {
        "id": "tKSM0kaNsUvQ",
        "outputId": "ca4440fc-b4a2-4d5c-aa5c-b0b6162074ab",
        "colab": {
          "base_uri": "https://localhost:8080/",
          "height": 283
        }
      },
      "source": [
        "i = np.random.randint(0, X_test.shape[0])\n",
        "print(f'y: {np.argmax(y_test.iloc[i])}, pred: {np.argmax(y_pred[i])}')\n",
        "if np.argmax(y_test.iloc[i]) != np.argmax(y_pred[i]):\n",
        "    print('error')\n",
        "plt.imshow(X_test[i,:,:,0:3]);"
      ],
      "execution_count": 103,
      "outputs": [
        {
          "output_type": "stream",
          "text": [
            "y: 3, pred: 3\n"
          ],
          "name": "stdout"
        },
        {
          "output_type": "display_data",
          "data": {
            "image/png": "[encoded data removed]",
            "text/plain": [
              "<Figure size 432x288 with 1 Axes>"
            ]
          },
          "metadata": {
            "tags": [],
            "needs_background": "light"
          }
        }
      ]
    },
    {
      "cell_type": "code",
      "metadata": {
        "id": "mMxyuTfPwOMF"
      },
      "source": [
        "err_idx = []\n",
        "for i in range(X_test.shape[0]):\n",
        "  if np.argmax(y_test.iloc[i]) != np.argmax(y_pred[i]):\n",
        "    err_idx.append(i)\n",
        "\n"
      ],
      "execution_count": null,
      "outputs": []
    },
    {
      "cell_type": "code",
      "metadata": {
        "id": "-DVzpdgb5P4W"
      },
      "source": [
        "err_idx"
      ],
      "execution_count": null,
      "outputs": []
    },
    {
      "cell_type": "code",
      "metadata": {
        "id": "tFR0_Q002aDh",
        "outputId": "879ea3de-e6f1-436d-fc70-2058113b70cd",
        "colab": {
          "base_uri": "https://localhost:8080/"
        }
      },
      "source": [
        "%cd outputs"
      ],
      "execution_count": 118,
      "outputs": [
        {
          "output_type": "stream",
          "text": [
            "/drive/My Drive/Galvanize/DSI_Capstone_3/outputs\n"
          ],
          "name": "stdout"
        }
      ]
    },
    {
      "cell_type": "code",
      "metadata": {
        "id": "DT-Llprn3RoX",
        "outputId": "37f386ec-e6cc-4d0d-9cbb-a310629cf324",
        "colab": {
          "base_uri": "https://localhost:8080/"
        }
      },
      "source": [
        "%cd .."
      ],
      "execution_count": 181,
      "outputs": [
        {
          "output_type": "stream",
          "text": [
            "/drive/My Drive/Galvanize/DSI_Capstone_3/outputs\n"
          ],
          "name": "stdout"
        }
      ]
    },
    {
      "cell_type": "code",
      "metadata": {
        "id": "KupCp78F2r5y"
      },
      "source": [
        "%mkdir road\n",
        "# building\n",
        "# barren_land\n",
        "# trees\n",
        "# grassland\n",
        "# road\n",
        "# water"
      ],
      "execution_count": 178,
      "outputs": []
    },
    {
      "cell_type": "code",
      "metadata": {
        "id": "WdErCw5M3gkR",
        "outputId": "d47cee82-63b8-4bff-9163-2c42a2c3cfaa",
        "colab": {
          "base_uri": "https://localhost:8080/"
        }
      },
      "source": [
        "!ls"
      ],
      "execution_count": 182,
      "outputs": [
        {
          "output_type": "stream",
          "text": [
            "barren_land  building  grassland  road\ttrees  water\n"
          ],
          "name": "stdout"
        }
      ]
    },
    {
      "cell_type": "code",
      "metadata": {
        "id": "7cmkMrlvwvYf"
      },
      "source": [
        "err_lst = []\n",
        "for j in err_idx:\n",
        "  err_lst.append([f'{j}', labels_dict[np.argmax(y_test.iloc[j])], labels_dict[np.argmax(y_pred[j])]])\n",
        "  # plt.imshow(X_test[j,:,:,0:3]);\n",
        "  # plt.imsave(f'{labels_dict[np.argmax(y_test.iloc[j])]}/{labels_dict[np.argmax(y_pred[j])]}/image{j}.png',X_test[j,:,:,0:3]);\n",
        "  # plt.show()\n",
        "  # print()"
      ],
      "execution_count": 193,
      "outputs": []
    },
    {
      "cell_type": "code",
      "metadata": {
        "id": "_n6kqukz50ML",
        "outputId": "d30b8d22-ef76-43c0-c311-2662910489be",
        "colab": {
          "base_uri": "https://localhost:8080/"
        }
      },
      "source": [
        "err_arr = np.array(err_lst)\n",
        "err_arr[err_arr[:,1]=='trees'].size"
      ],
      "execution_count": 198,
      "outputs": [
        {
          "output_type": "execute_result",
          "data": {
            "text/plain": [
              "138"
            ]
          },
          "metadata": {
            "tags": []
          },
          "execution_count": 198
        }
      ]
    },
    {
      "cell_type": "code",
      "metadata": {
        "id": "n077Inlw8fT3",
        "outputId": "4ac6f510-5e3b-460d-cae9-8380d377e1c0",
        "colab": {
          "base_uri": "https://localhost:8080/"
        }
      },
      "source": [
        "for i in ['building', 'barren_land', 'trees', 'grassland', 'road', 'water']:\n",
        "  for j in ['building', 'barren_land', 'trees', 'grassland', 'road', 'water']:\n",
        "    qty = err_arr[err_arr[:,1]==i][err_arr[err_arr[:,1]==i][:,2]==j].size\n",
        "    if qty:\n",
        "      print(f'y: {i} but pred: {j} = {qty}')\n",
        "      print()"
      ],
      "execution_count": 208,
      "outputs": [
        {
          "output_type": "stream",
          "text": [
            "y: building but pred: road = 15\n",
            "\n",
            "y: barren_land but pred: grassland = 468\n",
            "\n",
            "y: barren_land but pred: road = 9\n",
            "\n",
            "y: trees but pred: barren_land = 18\n",
            "\n",
            "y: trees but pred: grassland = 120\n",
            "\n",
            "y: grassland but pred: barren_land = 261\n",
            "\n",
            "y: grassland but pred: trees = 6\n",
            "\n",
            "y: grassland but pred: water = 3\n",
            "\n",
            "y: road but pred: building = 93\n",
            "\n",
            "y: road but pred: barren_land = 3\n",
            "\n"
          ],
          "name": "stdout"
        }
      ]
    },
    {
      "cell_type": "markdown",
      "metadata": {
        "id": "8airM814-yRK"
      },
      "source": [
        "y: barren_land but pred: grassland = 468 \\\n",
        "y: grassland but pred: barren_land = 261 \\\n",
        "y: trees but pred: grassland = 120 \\\n",
        "y: road but pred: building = 93 \\\n",
        "y: trees but pred: barren_land = 18 \\\n",
        "y: building but pred: road = 15 \\\n",
        "y: barren_land but pred: road = 9 \\\n",
        "y: grassland but pred: trees = 6 \\\n",
        "y: grassland but pred: water = 3 \\\n",
        "y: road but pred: barren_land = 3"
      ]
    }
  ]
}