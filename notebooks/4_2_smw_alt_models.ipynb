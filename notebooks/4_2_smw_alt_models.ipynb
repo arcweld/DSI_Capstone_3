{
 "cells": [
  {
   "cell_type": "markdown",
   "metadata": {},
   "source": [
    "# Imports"
   ]
  },
  {
   "cell_type": "code",
   "execution_count": 1,
   "metadata": {},
   "outputs": [
    {
     "name": "stdout",
     "output_type": "stream",
     "text": [
      "no change     /home/arcweld/anaconda3/condabin/conda\n",
      "no change     /home/arcweld/anaconda3/bin/conda\n",
      "no change     /home/arcweld/anaconda3/bin/conda-env\n",
      "no change     /home/arcweld/anaconda3/bin/activate\n",
      "no change     /home/arcweld/anaconda3/bin/deactivate\n",
      "no change     /home/arcweld/anaconda3/etc/profile.d/conda.sh\n",
      "no change     /home/arcweld/anaconda3/etc/fish/conf.d/conda.fish\n",
      "no change     /home/arcweld/anaconda3/shell/condabin/Conda.psm1\n",
      "no change     /home/arcweld/anaconda3/shell/condabin/conda-hook.ps1\n",
      "no change     /home/arcweld/anaconda3/lib/python3.7/site-packages/xontrib/conda.xsh\n",
      "no change     /home/arcweld/anaconda3/etc/profile.d/conda.csh\n",
      "no change     /home/arcweld/.bashrc\n",
      "No action taken.\n",
      "\n",
      "Note: you may need to restart the kernel to use updated packages.\n"
     ]
    }
   ],
   "source": [
    "%conda init bash"
   ]
  },
  {
   "cell_type": "code",
   "execution_count": 53,
   "metadata": {},
   "outputs": [
    {
     "name": "stdout",
     "output_type": "stream",
     "text": [
      "Collecting package metadata (current_repodata.json): done\n",
      "Solving environment: done\n",
      "\n",
      "# All requested packages already installed.\n",
      "\n",
      "\n",
      "Note: you may need to restart the kernel to use updated packages.\n",
      "Collecting package metadata (current_repodata.json): done\n",
      "Solving environment: done\n",
      "\n",
      "## Package Plan ##\n",
      "\n",
      "  environment location: /home/arcweld/anaconda3/envs/ee\n",
      "\n",
      "  added / updated specs:\n",
      "    - matplotlib\n",
      "\n",
      "\n",
      "The following packages will be downloaded:\n",
      "\n",
      "    package                    |            build\n",
      "    ---------------------------|-----------------\n",
      "    brotli-1.0.9               |       he6710b0_2         375 KB\n",
      "    cycler-0.10.0              |   py39h06a4308_0          16 KB\n",
      "    fonttools-4.25.0           |     pyhd3eb1b0_0         632 KB\n",
      "    glib-2.69.0                |       h5202010_0         1.7 MB\n",
      "    kiwisolver-1.3.1           |   py39h2531618_0          80 KB\n",
      "    lz4-c-1.9.3                |       h295c915_1         185 KB\n",
      "    matplotlib-3.4.2           |   py39h06a4308_0          26 KB\n",
      "    matplotlib-base-3.4.2      |   py39hab158f2_0         5.6 MB\n",
      "    munkres-1.1.4              |             py_0          13 KB\n",
      "    pillow-8.3.1               |   py39h2c7a002_0         648 KB\n",
      "    pyqt-5.9.2                 |   py39h2531618_6         4.7 MB\n",
      "    sip-4.19.13                |   py39h2531618_0         279 KB\n",
      "    ------------------------------------------------------------\n",
      "                                           Total:        14.2 MB\n",
      "\n",
      "The following NEW packages will be INSTALLED:\n",
      "\n",
      "  brotli             pkgs/main/linux-64::brotli-1.0.9-he6710b0_2\n",
      "  cycler             pkgs/main/linux-64::cycler-0.10.0-py39h06a4308_0\n",
      "  dbus               pkgs/main/linux-64::dbus-1.13.18-hb2f20db_0\n",
      "  expat              pkgs/main/linux-64::expat-2.4.1-h2531618_2\n",
      "  fontconfig         pkgs/main/linux-64::fontconfig-2.13.1-h6c09931_0\n",
      "  fonttools          pkgs/main/noarch::fonttools-4.25.0-pyhd3eb1b0_0\n",
      "  freetype           pkgs/main/linux-64::freetype-2.10.4-h5ab3b9f_0\n",
      "  glib               pkgs/main/linux-64::glib-2.69.0-h5202010_0\n",
      "  gst-plugins-base   pkgs/main/linux-64::gst-plugins-base-1.14.0-h8213a91_2\n",
      "  gstreamer          pkgs/main/linux-64::gstreamer-1.14.0-h28cd5cc_2\n",
      "  icu                pkgs/main/linux-64::icu-58.2-he6710b0_3\n",
      "  jpeg               pkgs/main/linux-64::jpeg-9b-h024ee3a_2\n",
      "  kiwisolver         pkgs/main/linux-64::kiwisolver-1.3.1-py39h2531618_0\n",
      "  lcms2              pkgs/main/linux-64::lcms2-2.12-h3be6417_0\n",
      "  libpng             pkgs/main/linux-64::libpng-1.6.37-hbc83047_0\n",
      "  libtiff            pkgs/main/linux-64::libtiff-4.2.0-h85742a9_0\n",
      "  libuuid            pkgs/main/linux-64::libuuid-1.0.3-h1bed415_2\n",
      "  libwebp-base       pkgs/main/linux-64::libwebp-base-1.2.0-h27cfd23_0\n",
      "  libxcb             pkgs/main/linux-64::libxcb-1.14-h7b6447c_0\n",
      "  libxml2            pkgs/main/linux-64::libxml2-2.9.12-h03d6c58_0\n",
      "  lz4-c              pkgs/main/linux-64::lz4-c-1.9.3-h295c915_1\n",
      "  matplotlib         pkgs/main/linux-64::matplotlib-3.4.2-py39h06a4308_0\n",
      "  matplotlib-base    pkgs/main/linux-64::matplotlib-base-3.4.2-py39hab158f2_0\n",
      "  munkres            pkgs/main/noarch::munkres-1.1.4-py_0\n",
      "  olefile            pkgs/main/noarch::olefile-0.46-py_0\n",
      "  openjpeg           pkgs/main/linux-64::openjpeg-2.3.0-h05c96fa_1\n",
      "  pcre               pkgs/main/linux-64::pcre-8.45-h295c915_0\n",
      "  pillow             pkgs/main/linux-64::pillow-8.3.1-py39h2c7a002_0\n",
      "  pyqt               pkgs/main/linux-64::pyqt-5.9.2-py39h2531618_6\n",
      "  qt                 pkgs/main/linux-64::qt-5.9.7-h5867ecd_1\n",
      "  sip                pkgs/main/linux-64::sip-4.19.13-py39h2531618_0\n",
      "  zstd               pkgs/main/linux-64::zstd-1.4.9-haebb681_0\n",
      "\n",
      "The following packages will be UPDATED:\n",
      "\n",
      "  ca-certificates    anaconda::ca-certificates-2020.10.14-0 --> pkgs/main::ca-certificates-2021.7.5-h06a4308_1\n",
      "\n",
      "The following packages will be SUPERSEDED by a higher-priority channel:\n",
      "\n",
      "  openssl            conda-forge::openssl-1.1.1k-h7f98852_0 --> pkgs/main::openssl-1.1.1k-h27cfd23_0\n",
      "\n",
      "\n",
      "\n",
      "Downloading and Extracting Packages\n",
      "cycler-0.10.0        | 16 KB     | ##################################### | 100% \n",
      "kiwisolver-1.3.1     | 80 KB     | ##################################### | 100% \n",
      "lz4-c-1.9.3          | 185 KB    | ##################################### | 100% \n",
      "pillow-8.3.1         | 648 KB    | ##################################### | 100% \n",
      "fonttools-4.25.0     | 632 KB    | ##################################### | 100% \n",
      "matplotlib-3.4.2     | 26 KB     | ##################################### | 100% \n",
      "matplotlib-base-3.4. | 5.6 MB    | ##################################### | 100% \n",
      "pyqt-5.9.2           | 4.7 MB    | ##################################### | 100% \n",
      "brotli-1.0.9         | 375 KB    | ##################################### | 100% \n",
      "sip-4.19.13          | 279 KB    | ##################################### | 100% \n",
      "glib-2.69.0          | 1.7 MB    | ##################################### | 100% \n",
      "munkres-1.1.4        | 13 KB     | ##################################### | 100% \n",
      "Preparing transaction: done\n",
      "Verifying transaction: done\n",
      "Executing transaction: done\n",
      "\n",
      "Note: you may need to restart the kernel to use updated packages.\n"
     ]
    }
   ],
   "source": [
    "%conda install -c anaconda scikit-learn\n",
    "%conda install matplotlib"
   ]
  },
  {
   "cell_type": "code",
   "execution_count": 54,
   "metadata": {},
   "outputs": [],
   "source": [
    "import sys\n",
    "import os\n",
    "\n",
    "import numpy as np\n",
    "import itertools\n",
    "\n",
    "from sklearn.neighbors import KNeighborsClassifier\n",
    "from sklearn.ensemble import RandomForestClassifier\n",
    "from sklearn.datasets import make_classification\n",
    "from sklearn.cluster import KMeans\n",
    "from sklearn.metrics import silhouette_score, silhouette_samples\n",
    "\n",
    "import matplotlib.pyplot as plt"
   ]
  },
  {
   "cell_type": "markdown",
   "metadata": {},
   "source": [
    "# Load Data"
   ]
  },
  {
   "cell_type": "code",
   "execution_count": 9,
   "metadata": {},
   "outputs": [
    {
     "name": "stdout",
     "output_type": "stream",
     "text": [
      "/home/arcweld/Documents/1_Projects/data_science_studies/DSI/Capstones/DSI_Capstone_3\n"
     ]
    }
   ],
   "source": [
    "%cd .."
   ]
  },
  {
   "cell_type": "code",
   "execution_count": 7,
   "metadata": {},
   "outputs": [],
   "source": [
    "sys.path.append('src/')"
   ]
  },
  {
   "cell_type": "code",
   "execution_count": 12,
   "metadata": {},
   "outputs": [],
   "source": [
    "from src.data import make_dataset\n",
    "X, y = make_dataset.fetch_training_data(data_path=os.path.join('data','raw'), nrows=500)\n",
    "X_test, y_test = make_dataset.fetch_testing_data(data_path=os.path.join('data','raw'), nrows=200)"
   ]
  },
  {
   "cell_type": "markdown",
   "metadata": {},
   "source": [
    "# KNN\n",
    "https://scikit-learn.org/stable/modules/generated/sklearn.neighbors.KNeighborsClassifier.html?highlight=kneighborsclassifier#sklearn.neighbors.KNeighborsClassifier"
   ]
  },
  {
   "cell_type": "code",
   "execution_count": null,
   "metadata": {},
   "outputs": [],
   "source": [
    "# K-NNC\n",
    "knn = KNeighborsClassifier(n_neighbors=6)\n",
    "\n",
    "knn.fit(X, y)\n",
    "\n",
    "# Predict the labels of test data\n",
    "\n",
    "knn_pred = knn.predict(X_test)\n",
    "\n",
    "print(f\"Accuracy: {accuracy_score(y_test, knn_pred)*100}\")\n",
    "\n",
    "print(classification_report(y_test, knn_pred))"
   ]
  },
  {
   "cell_type": "markdown",
   "metadata": {},
   "source": [
    "# Logistic Regression\n",
    "https://scikit-learn.org/stable/modules/generated/sklearn.linear_model.LogisticRegression.html"
   ]
  },
  {
   "cell_type": "code",
   "execution_count": null,
   "metadata": {},
   "outputs": [],
   "source": [
    "model = LogisticRegression().fit(X_train, y_train)"
   ]
  },
  {
   "cell_type": "markdown",
   "metadata": {},
   "source": [
    "# Random Forest\n",
    "https://scikit-learn.org/stable/modules/generated/sklearn.ensemble.RandomForestClassifier.html"
   ]
  },
  {
   "cell_type": "code",
   "execution_count": null,
   "metadata": {},
   "outputs": [],
   "source": [
    "X, y = make_classification(n_samples=1000, n_features=4,\n",
    "                            n_informative=2, n_redundant=0,\n",
    "                            random_state=0, shuffle=False)\n",
    "clf = RandomForestClassifier(max_depth=2, random_state=0)"
   ]
  },
  {
   "cell_type": "markdown",
   "metadata": {},
   "source": [
    "# LGBM\n",
    "https://lightgbm.readthedocs.io/en/latest/index.html"
   ]
  },
  {
   "cell_type": "code",
   "execution_count": null,
   "metadata": {},
   "outputs": [],
   "source": [
    "import lightgbm as lgb\n",
    "\n",
    "d_train = lgb.Dataset(X_train, label=y_train)\n",
    "\n",
    "# Parameters\n",
    "params={}\n",
    "params['learning_rate']=0.03\n",
    "params['boosting_type']='gbdt' #GradientBoostingDecisionTree\n",
    "params['objective']='multiclass' #Multi-class target feature\n",
    "params['metric']='multi_logloss' #metric for multi-class\n",
    "params['max_depth']=15\n",
    "params['num_class']=6 #no.of unique values in the target class not inclusive of the end value\n",
    "\n",
    "clf = lgb.train(params, d_train, 100)\n",
    "\n",
    "# prediction\n",
    "lgb_predictions = clf.predict(X_test)\n",
    "lgb_pred = np.argmax(lgb_predictions, axis=1)\n",
    "\n",
    "# Accuracy and Classification Report\n",
    "print(f\"Accuracy: {accuracy_score(y_test, lgb_pred)*100}\")\n",
    "print(classification_report(y_test, lgb_pred))"
   ]
  },
  {
   "cell_type": "markdown",
   "metadata": {},
   "source": [
    "## k-Means"
   ]
  },
  {
   "cell_type": "markdown",
   "metadata": {},
   "source": [
    "Prepare data"
   ]
  },
  {
   "cell_type": "code",
   "execution_count": 26,
   "metadata": {},
   "outputs": [
    {
     "data": {
      "text/plain": [
       "(500, 3136)"
      ]
     },
     "execution_count": 26,
     "metadata": {},
     "output_type": "execute_result"
    }
   ],
   "source": [
    "X.reshape(500, -1).shape"
   ]
  },
  {
   "cell_type": "code",
   "execution_count": 44,
   "metadata": {},
   "outputs": [
    {
     "data": {
      "text/plain": [
       "array([2, 1, 5, 5, 5, 0, 0, 5, 1, 2, 5, 1, 1, 4, 5, 2, 5, 3, 3, 1, 5, 1,\n",
       "       1, 2, 2, 1, 5, 5, 5, 3, 1, 1, 1, 3, 5, 5, 5, 3, 3, 1, 0, 5, 3, 5,\n",
       "       5, 5, 3, 3, 5, 3, 2, 1, 5, 2, 3, 5, 1, 1, 5, 2, 2, 2, 2, 2, 1, 3,\n",
       "       5, 3, 5, 2, 2, 5, 0, 3, 5, 5, 3, 3, 5, 1, 5, 0, 5, 1, 5, 2, 1, 1,\n",
       "       3, 3, 1, 2, 2, 2, 1, 5, 5, 5, 3, 5, 5, 5, 3, 5, 3, 3, 3, 1, 3, 2,\n",
       "       5, 1, 1, 1, 5, 0, 5, 3, 0, 3, 0, 2, 0, 3, 5, 1, 1, 0, 1, 5, 2, 4,\n",
       "       1, 5, 5, 1, 5, 1, 5, 3, 5, 5, 2, 5, 3, 2, 2, 0, 5, 5, 1, 5, 5, 5,\n",
       "       2, 1, 3, 3, 1, 5, 5, 5, 5, 1, 1, 2, 2, 3, 3, 5, 5, 5, 5, 1, 3, 3,\n",
       "       5, 2, 3, 1, 2, 2, 5, 2, 1, 5, 5, 3, 1, 2, 1, 5, 1, 1, 1, 5, 2, 2,\n",
       "       3, 1, 5, 5, 5, 5, 5, 0, 1, 3, 1, 5, 3, 2, 4, 3, 5, 1, 1, 1, 2, 1,\n",
       "       3, 5, 5, 2, 5, 5, 1, 2, 1, 5, 5, 0, 5, 2, 5, 5, 1, 0, 3, 5, 2, 5,\n",
       "       3, 1, 5, 3, 5, 3, 5, 3, 5, 1, 0, 5, 2, 5, 5, 3, 4, 1, 0, 5, 5, 5,\n",
       "       1, 5, 2, 5, 5, 3, 5, 3, 1, 1, 2, 5, 5, 3, 5, 1, 5, 5, 2, 0, 5, 1,\n",
       "       2, 5, 2, 1, 1, 5, 3, 5, 3, 2, 2, 4, 5, 1, 2, 5, 1, 5, 5, 1, 5, 2,\n",
       "       2, 3, 2, 5, 2, 1, 5, 5, 2, 5, 2, 3, 5, 5, 5, 0, 1, 2, 2, 2, 2, 0,\n",
       "       1, 2, 3, 2, 5, 1, 3, 1, 5, 2, 5, 3, 3, 5, 5, 1, 0, 5, 3, 3, 2, 2,\n",
       "       5, 5, 5, 3, 0, 1, 5, 5, 3, 5, 2, 1, 5, 5, 1, 0, 1, 5, 1, 0, 5, 5,\n",
       "       5, 5, 5, 5, 4, 5, 5, 5, 5, 5, 3, 5, 1, 0, 5, 2, 5, 5, 5, 5, 2, 0,\n",
       "       3, 1, 5, 3, 3, 5, 3, 5, 1, 5, 5, 5, 5, 5, 5, 5, 5, 3, 5, 5, 2, 3,\n",
       "       2, 3, 3, 1, 2, 5, 5, 5, 2, 3, 5, 3, 2, 5, 5, 3, 1, 4, 2, 5, 1, 5,\n",
       "       1, 3, 1, 1, 2, 5, 5, 3, 2, 2, 3, 5, 3, 3, 4, 3, 5, 5, 5, 5, 2, 5,\n",
       "       0, 5, 1, 5, 5, 5, 5, 1, 5, 5, 5, 0, 1, 1, 3, 5, 5, 0, 5, 5, 3, 1,\n",
       "       5, 5, 5, 5, 2, 4, 5, 1, 1, 1, 3, 3, 5, 2, 5, 2])"
      ]
     },
     "execution_count": 44,
     "metadata": {},
     "output_type": "execute_result"
    }
   ],
   "source": [
    "np.where(y==1)[1]"
   ]
  },
  {
   "cell_type": "code",
   "execution_count": 42,
   "metadata": {},
   "outputs": [
    {
     "data": {
      "text/plain": [
       "1"
      ]
     },
     "execution_count": 42,
     "metadata": {},
     "output_type": "execute_result"
    }
   ],
   "source": [
    "np.argwhere(1)"
   ]
  },
  {
   "cell_type": "code",
   "execution_count": 45,
   "metadata": {},
   "outputs": [
    {
     "name": "stdout",
     "output_type": "stream",
     "text": [
      "# digits: 6; # samples: 500; # features 3136\n"
     ]
    }
   ],
   "source": [
    "data, labels = X.reshape(500, -1), np.where(y==1)[1]\n",
    "(n_samples, n_features), n_digits = data.shape, np.unique(labels).size\n",
    "\n",
    "print(\n",
    "    f\"# digits: {n_digits}; # samples: {n_samples}; # features {n_features}\"\n",
    ")"
   ]
  },
  {
   "cell_type": "code",
   "execution_count": 69,
   "metadata": {},
   "outputs": [],
   "source": [
    "maxk = 7\n",
    "wcss = np.zeros(maxk)\n",
    "silhouette = np.zeros(maxk)\n",
    "\n",
    "for k in range(1,maxk):\n",
    "    km = KMeans(k)\n",
    "    y_pred = km.fit_predict(data)   \n",
    "    \n",
    "    for c in range(0, k):\n",
    "        for i1, i2 in itertools.combinations([ i for i in range(len(y_pred)) if y_pred[i] == c ], 2):\n",
    "            wcss[k] += sum(data[i1] - data[i2])**2\n",
    "    wcss[k] /= 2\n",
    "    \n",
    "    if k > 1:\n",
    "        silhouette[k] = silhouette_score(data,labels)\n"
   ]
  },
  {
   "cell_type": "code",
   "execution_count": 70,
   "metadata": {},
   "outputs": [
    {
     "data": {
      "text/plain": [
       "Text(0, 0.5, 'within-cluster sum of squares')"
      ]
     },
     "execution_count": 70,
     "metadata": {},
     "output_type": "execute_result"
    },
    {
     "data": {
      "image/png": "[encoded data removed]",
      "text/plain": [
       "<Figure size 432x288 with 1 Axes>"
      ]
     },
     "metadata": {
      "needs_background": "light"
     },
     "output_type": "display_data"
    }
   ],
   "source": [
    "fig, ax = plt.subplots()\n",
    "ax.plot(range(2,maxk), wcss[2:maxk], 'o-')\n",
    "ax.set_xlabel(\"number of clusters\")\n",
    "ax.set_ylabel(\"within-cluster sum of squares\")"
   ]
  },
  {
   "cell_type": "code",
   "execution_count": null,
   "metadata": {},
   "outputs": [],
   "source": [
    "km = KMeans(k)\n",
    "y_pred = km.fit_predict(data)"
   ]
  },
  {
   "cell_type": "code",
   "execution_count": 73,
   "metadata": {},
   "outputs": [
    {
     "name": "stdout",
     "output_type": "stream",
     "text": [
      "0 0\n"
     ]
    }
   ],
   "source": [
    "i = 120\n",
    "print(y_pred[i], labels[i])"
   ]
  },
  {
   "cell_type": "code",
   "execution_count": 68,
   "metadata": {},
   "outputs": [
    {
     "data": {
      "text/plain": [
       "5"
      ]
     },
     "execution_count": 68,
     "metadata": {},
     "output_type": "execute_result"
    }
   ],
   "source": []
  },
  {
   "cell_type": "code",
   "execution_count": null,
   "metadata": {},
   "outputs": [],
   "source": []
  }
 ],
 "metadata": {
  "kernelspec": {
   "display_name": "Python 3",
   "language": "python",
   "name": "python3"
  },
  "language_info": {
   "codemirror_mode": {
    "name": "ipython",
    "version": 3
   },
   "file_extension": ".py",
   "mimetype": "text/x-python",
   "name": "python",
   "nbconvert_exporter": "python",
   "pygments_lexer": "ipython3",
   "version": "3.9.6"
  }
 },
 "nbformat": 4,
 "nbformat_minor": 4
}
