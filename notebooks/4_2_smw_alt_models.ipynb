{
  "nbformat": 4,
  "nbformat_minor": 0,
  "metadata": {
    "kernelspec": {
      "display_name": "Python 3",
      "language": "python",
      "name": "python3"
    },
    "language_info": {
      "codemirror_mode": {
        "name": "ipython",
        "version": 3
      },
      "file_extension": ".py",
      "mimetype": "text/x-python",
      "name": "python",
      "nbconvert_exporter": "python",
      "pygments_lexer": "ipython3",
      "version": "3.9.6"
    },
    "colab": {
      "name": "4_2_smw_alt_models.ipynb",
      "provenance": [],
      "machine_shape": "hm"
    }
  },
  "cells": [
    {
      "cell_type": "markdown",
      "metadata": {
        "id": "UMKKLERlnjHs"
      },
      "source": [
        "# Imports"
      ]
    },
    {
      "cell_type": "code",
      "metadata": {
        "id": "WDSwSMy8njHy"
      },
      "source": [
        "%conda install -c anaconda scikit-learn\n",
        "%conda install matplotlib"
      ],
      "execution_count": null,
      "outputs": []
    },
    {
      "cell_type": "code",
      "metadata": {
        "id": "qQypBQxInjHz"
      },
      "source": [
        "import sys\n",
        "import os\n",
        "\n",
        "import numpy as np\n",
        "import itertools\n",
        "\n",
        "from sklearn.neighbors import KNeighborsClassifier\n",
        "from sklearn.ensemble import RandomForestClassifier\n",
        "from sklearn.datasets import make_classification\n",
        "from sklearn.cluster import KMeans\n",
        "from sklearn.metrics import silhouette_score, silhouette_samples\n",
        "from sklearn.metrics import log_loss\n",
        "\n",
        "import matplotlib.pyplot as plt\n",
        "\n",
        "import pickle"
      ],
      "execution_count": 20,
      "outputs": []
    },
    {
      "cell_type": "markdown",
      "metadata": {
        "id": "AKtqkZcrnjH0"
      },
      "source": [
        "# Load Data"
      ]
    },
    {
      "cell_type": "code",
      "metadata": {
        "id": "WJKcYLXkoBZB",
        "outputId": "987e727f-2ec2-4406-d930-75fa162d1929",
        "colab": {
          "base_uri": "https://localhost:8080/"
        }
      },
      "source": [
        "from google.colab import drive\n",
        "drive.mount('/data', force_remount=True)"
      ],
      "execution_count": 2,
      "outputs": [
        {
          "output_type": "stream",
          "text": [
            "Mounted at /data\n"
          ],
          "name": "stdout"
        }
      ]
    },
    {
      "cell_type": "code",
      "metadata": {
        "id": "XnY-wCcanjH0",
        "outputId": "8a38e327-bde7-4045-a765-5417c76acc2e",
        "colab": {
          "base_uri": "https://localhost:8080/"
        }
      },
      "source": [
        "%cd ../data/MyDrive/Galvanize/DSI_Capstone_3/"
      ],
      "execution_count": 3,
      "outputs": [
        {
          "output_type": "stream",
          "text": [
            "/data/MyDrive/Galvanize/DSI_Capstone_3\n"
          ],
          "name": "stdout"
        }
      ]
    },
    {
      "cell_type": "code",
      "metadata": {
        "id": "AVPTjrKGnjH2"
      },
      "source": [
        "from src.data import make_dataset\n",
        "X, y = make_dataset.fetch_training_data(data_path=os.path.join('data','raw'))\n",
        "X_test, y_test = make_dataset.fetch_testing_data(data_path=os.path.join('data','raw'))"
      ],
      "execution_count": 4,
      "outputs": []
    },
    {
      "cell_type": "code",
      "metadata": {
        "id": "Gs1aHzMmrkU6",
        "outputId": "840c6524-abe3-4c22-94e3-43d8a9e3828c",
        "colab": {
          "base_uri": "https://localhost:8080/"
        }
      },
      "source": [
        "X.shape"
      ],
      "execution_count": 6,
      "outputs": [
        {
          "output_type": "execute_result",
          "data": {
            "text/plain": [
              "(324000, 28, 28, 4)"
            ]
          },
          "metadata": {
            "tags": []
          },
          "execution_count": 6
        }
      ]
    },
    {
      "cell_type": "code",
      "metadata": {
        "id": "Xeh5mvm0rvly"
      },
      "source": [
        "X_mod = X.reshape(324000, -1)"
      ],
      "execution_count": 7,
      "outputs": []
    },
    {
      "cell_type": "code",
      "metadata": {
        "id": "2UGZ35YrsBM_",
        "outputId": "286a4b38-aeeb-4ef8-8786-4039b13c4b0b",
        "colab": {
          "base_uri": "https://localhost:8080/"
        }
      },
      "source": [
        "X_mod.shape"
      ],
      "execution_count": 8,
      "outputs": [
        {
          "output_type": "execute_result",
          "data": {
            "text/plain": [
              "(324000, 3136)"
            ]
          },
          "metadata": {
            "tags": []
          },
          "execution_count": 8
        }
      ]
    },
    {
      "cell_type": "code",
      "metadata": {
        "id": "b20Kxud_sDpD",
        "outputId": "fed8f747-e899-4eed-9b08-4eb7b436e551",
        "colab": {
          "base_uri": "https://localhost:8080/"
        }
      },
      "source": [
        "X_test.shape"
      ],
      "execution_count": 9,
      "outputs": [
        {
          "output_type": "execute_result",
          "data": {
            "text/plain": [
              "(81000, 28, 28, 4)"
            ]
          },
          "metadata": {
            "tags": []
          },
          "execution_count": 9
        }
      ]
    },
    {
      "cell_type": "code",
      "metadata": {
        "id": "MTfYuP2pr6qJ"
      },
      "source": [
        "X_mod_test = X_test.reshape(81000, -1)"
      ],
      "execution_count": 10,
      "outputs": []
    },
    {
      "cell_type": "code",
      "metadata": {
        "id": "xZybHO5jsI4H",
        "outputId": "67eba6c5-c121-44ce-92cc-aad28c37539a",
        "colab": {
          "base_uri": "https://localhost:8080/"
        }
      },
      "source": [
        "X_mod_test.shape"
      ],
      "execution_count": 11,
      "outputs": [
        {
          "output_type": "execute_result",
          "data": {
            "text/plain": [
              "(81000, 3136)"
            ]
          },
          "metadata": {
            "tags": []
          },
          "execution_count": 11
        }
      ]
    },
    {
      "cell_type": "markdown",
      "metadata": {
        "id": "YhmwP7zAnjH3"
      },
      "source": [
        "# KNN\n",
        "https://scikit-learn.org/stable/modules/generated/sklearn.neighbors.KNeighborsClassifier.html?highlight=kneighborsclassifier#sklearn.neighbors.KNeighborsClassifier"
      ]
    },
    {
      "cell_type": "code",
      "metadata": {
        "id": "lXoZLylNnjH4"
      },
      "source": [
        "# K-NNC\n",
        "knn = KNeighborsClassifier(n_neighbors=6)\n",
        "\n",
        "knn.fit(X, y)\n",
        "\n",
        "# Predict the labels of test data\n",
        "\n",
        "knn_pred = knn.predict(X_test)\n",
        "\n",
        "print(f\"Accuracy: {accuracy_score(y_test, knn_pred)*100}\")\n",
        "\n",
        "print(classification_report(y_test, knn_pred))"
      ],
      "execution_count": null,
      "outputs": []
    },
    {
      "cell_type": "markdown",
      "metadata": {
        "id": "5kLCEMOvnjH5"
      },
      "source": [
        "# Logistic Regression\n",
        "https://scikit-learn.org/stable/modules/generated/sklearn.linear_model.LogisticRegression.html"
      ]
    },
    {
      "cell_type": "code",
      "metadata": {
        "id": "qCKnpIeYnjH5"
      },
      "source": [
        "model = LogisticRegression().fit(X_train, y_train)"
      ],
      "execution_count": null,
      "outputs": []
    },
    {
      "cell_type": "markdown",
      "metadata": {
        "id": "kcdwOeHLnjH6"
      },
      "source": [
        "# Random Forest\n",
        "https://scikit-learn.org/stable/modules/generated/sklearn.ensemble.RandomForestClassifier.html"
      ]
    },
    {
      "cell_type": "code",
      "metadata": {
        "id": "gN2V-ATOnjH6",
        "outputId": "deb5b9da-6d69-4721-dac1-4e70ec3848cc",
        "colab": {
          "base_uri": "https://localhost:8080/"
        }
      },
      "source": [
        "rf = RandomForestClassifier(n_estimators=1000, max_features='auto', max_depth=4, oob_score=True, verbose=1, random_state=0)\n",
        "rf.fit(X_mod, y)"
      ],
      "execution_count": 22,
      "outputs": [
        {
          "output_type": "stream",
          "text": [
            "[Parallel(n_jobs=1)]: Using backend SequentialBackend with 1 concurrent workers.\n",
            "[Parallel(n_jobs=1)]: Done 1000 out of 1000 | elapsed: 171.2min finished\n"
          ],
          "name": "stderr"
        },
        {
          "output_type": "execute_result",
          "data": {
            "text/plain": [
              "RandomForestClassifier(bootstrap=True, ccp_alpha=0.0, class_weight=None,\n",
              "                       criterion='gini', max_depth=4, max_features='auto',\n",
              "                       max_leaf_nodes=None, max_samples=None,\n",
              "                       min_impurity_decrease=0.0, min_impurity_split=None,\n",
              "                       min_samples_leaf=1, min_samples_split=2,\n",
              "                       min_weight_fraction_leaf=0.0, n_estimators=1000,\n",
              "                       n_jobs=None, oob_score=True, random_state=0, verbose=1,\n",
              "                       warm_start=False)"
            ]
          },
          "metadata": {
            "tags": []
          },
          "execution_count": 22
        }
      ]
    },
    {
      "cell_type": "code",
      "metadata": {
        "id": "TtIMgrsB6wYX"
      },
      "source": [
        "filename = 'finalized_model2.sav'\n",
        "pickle.dump(rf, open(filename, 'wb'))"
      ],
      "execution_count": 23,
      "outputs": []
    },
    {
      "cell_type": "code",
      "metadata": {
        "id": "0I5D2jAjrdyH",
        "outputId": "b5e95ac1-cb60-4926-d869-fc1d450a2d9b",
        "colab": {
          "base_uri": "https://localhost:8080/"
        }
      },
      "source": [
        "# Test Prediction\n",
        "pred = rf.predict(X_mod_test)\n",
        "# print(f\"log loss = {log_loss(y_test, rf.predict_proba(X_mod_test)[:, 1])}\")\n",
        "print(f\"accuracy = {rf.score(X_mod_test, y_test)}\")"
      ],
      "execution_count": 24,
      "outputs": [
        {
          "output_type": "stream",
          "text": [
            "[Parallel(n_jobs=1)]: Using backend SequentialBackend with 1 concurrent workers.\n",
            "[Parallel(n_jobs=1)]: Done 1000 out of 1000 | elapsed:   28.7s finished\n",
            "[Parallel(n_jobs=1)]: Using backend SequentialBackend with 1 concurrent workers.\n"
          ],
          "name": "stderr"
        },
        {
          "output_type": "stream",
          "text": [
            "accuracy = 0.830925925925926\n"
          ],
          "name": "stdout"
        },
        {
          "output_type": "stream",
          "text": [
            "[Parallel(n_jobs=1)]: Done 1000 out of 1000 | elapsed:   28.8s finished\n"
          ],
          "name": "stderr"
        }
      ]
    },
    {
      "cell_type": "markdown",
      "metadata": {
        "id": "ZuLCVJRjnjH7"
      },
      "source": [
        "# LGBM\n",
        "https://lightgbm.readthedocs.io/en/latest/index.html"
      ]
    },
    {
      "cell_type": "code",
      "metadata": {
        "id": "kuZfP8yinjH7"
      },
      "source": [
        "import lightgbm as lgb\n",
        "\n",
        "d_train = lgb.Dataset(X_train, label=y_train)\n",
        "\n",
        "# Parameters\n",
        "params={}\n",
        "params['learning_rate']=0.03\n",
        "params['boosting_type']='gbdt' #GradientBoostingDecisionTree\n",
        "params['objective']='multiclass' #Multi-class target feature\n",
        "params['metric']='multi_logloss' #metric for multi-class\n",
        "params['max_depth']=15\n",
        "params['num_class']=6 #no.of unique values in the target class not inclusive of the end value\n",
        "\n",
        "clf = lgb.train(params, d_train, 100)\n",
        "\n",
        "# prediction\n",
        "lgb_predictions = clf.predict(X_test)\n",
        "lgb_pred = np.argmax(lgb_predictions, axis=1)\n",
        "\n",
        "# Accuracy and Classification Report\n",
        "print(f\"Accuracy: {accuracy_score(y_test, lgb_pred)*100}\")\n",
        "print(classification_report(y_test, lgb_pred))"
      ],
      "execution_count": null,
      "outputs": []
    },
    {
      "cell_type": "markdown",
      "metadata": {
        "id": "eRr2JeJ8njH7"
      },
      "source": [
        "## k-Means"
      ]
    },
    {
      "cell_type": "markdown",
      "metadata": {
        "id": "fJ06JhQLnjH8"
      },
      "source": [
        "Prepare data"
      ]
    },
    {
      "cell_type": "code",
      "metadata": {
        "id": "Ql2aPydFnjH8",
        "outputId": "e03ccbed-b751-411b-8efb-35104fef3d3a"
      },
      "source": [
        "X.reshape(500, -1).shape"
      ],
      "execution_count": null,
      "outputs": [
        {
          "output_type": "execute_result",
          "data": {
            "text/plain": [
              "(500, 3136)"
            ]
          },
          "metadata": {
            "tags": []
          },
          "execution_count": 26
        }
      ]
    },
    {
      "cell_type": "code",
      "metadata": {
        "id": "BronpOZjnjH8",
        "outputId": "ea1afa22-6449-4fd0-b242-9edd1944f965"
      },
      "source": [
        "np.where(y==1)[1]"
      ],
      "execution_count": null,
      "outputs": [
        {
          "output_type": "execute_result",
          "data": {
            "text/plain": [
              "array([2, 1, 5, 5, 5, 0, 0, 5, 1, 2, 5, 1, 1, 4, 5, 2, 5, 3, 3, 1, 5, 1,\n",
              "       1, 2, 2, 1, 5, 5, 5, 3, 1, 1, 1, 3, 5, 5, 5, 3, 3, 1, 0, 5, 3, 5,\n",
              "       5, 5, 3, 3, 5, 3, 2, 1, 5, 2, 3, 5, 1, 1, 5, 2, 2, 2, 2, 2, 1, 3,\n",
              "       5, 3, 5, 2, 2, 5, 0, 3, 5, 5, 3, 3, 5, 1, 5, 0, 5, 1, 5, 2, 1, 1,\n",
              "       3, 3, 1, 2, 2, 2, 1, 5, 5, 5, 3, 5, 5, 5, 3, 5, 3, 3, 3, 1, 3, 2,\n",
              "       5, 1, 1, 1, 5, 0, 5, 3, 0, 3, 0, 2, 0, 3, 5, 1, 1, 0, 1, 5, 2, 4,\n",
              "       1, 5, 5, 1, 5, 1, 5, 3, 5, 5, 2, 5, 3, 2, 2, 0, 5, 5, 1, 5, 5, 5,\n",
              "       2, 1, 3, 3, 1, 5, 5, 5, 5, 1, 1, 2, 2, 3, 3, 5, 5, 5, 5, 1, 3, 3,\n",
              "       5, 2, 3, 1, 2, 2, 5, 2, 1, 5, 5, 3, 1, 2, 1, 5, 1, 1, 1, 5, 2, 2,\n",
              "       3, 1, 5, 5, 5, 5, 5, 0, 1, 3, 1, 5, 3, 2, 4, 3, 5, 1, 1, 1, 2, 1,\n",
              "       3, 5, 5, 2, 5, 5, 1, 2, 1, 5, 5, 0, 5, 2, 5, 5, 1, 0, 3, 5, 2, 5,\n",
              "       3, 1, 5, 3, 5, 3, 5, 3, 5, 1, 0, 5, 2, 5, 5, 3, 4, 1, 0, 5, 5, 5,\n",
              "       1, 5, 2, 5, 5, 3, 5, 3, 1, 1, 2, 5, 5, 3, 5, 1, 5, 5, 2, 0, 5, 1,\n",
              "       2, 5, 2, 1, 1, 5, 3, 5, 3, 2, 2, 4, 5, 1, 2, 5, 1, 5, 5, 1, 5, 2,\n",
              "       2, 3, 2, 5, 2, 1, 5, 5, 2, 5, 2, 3, 5, 5, 5, 0, 1, 2, 2, 2, 2, 0,\n",
              "       1, 2, 3, 2, 5, 1, 3, 1, 5, 2, 5, 3, 3, 5, 5, 1, 0, 5, 3, 3, 2, 2,\n",
              "       5, 5, 5, 3, 0, 1, 5, 5, 3, 5, 2, 1, 5, 5, 1, 0, 1, 5, 1, 0, 5, 5,\n",
              "       5, 5, 5, 5, 4, 5, 5, 5, 5, 5, 3, 5, 1, 0, 5, 2, 5, 5, 5, 5, 2, 0,\n",
              "       3, 1, 5, 3, 3, 5, 3, 5, 1, 5, 5, 5, 5, 5, 5, 5, 5, 3, 5, 5, 2, 3,\n",
              "       2, 3, 3, 1, 2, 5, 5, 5, 2, 3, 5, 3, 2, 5, 5, 3, 1, 4, 2, 5, 1, 5,\n",
              "       1, 3, 1, 1, 2, 5, 5, 3, 2, 2, 3, 5, 3, 3, 4, 3, 5, 5, 5, 5, 2, 5,\n",
              "       0, 5, 1, 5, 5, 5, 5, 1, 5, 5, 5, 0, 1, 1, 3, 5, 5, 0, 5, 5, 3, 1,\n",
              "       5, 5, 5, 5, 2, 4, 5, 1, 1, 1, 3, 3, 5, 2, 5, 2])"
            ]
          },
          "metadata": {
            "tags": []
          },
          "execution_count": 44
        }
      ]
    },
    {
      "cell_type": "code",
      "metadata": {
        "id": "jVsYEtO9njH9",
        "outputId": "015dc324-05ae-40d9-8a8f-c6a3736597c9"
      },
      "source": [
        "np.argwhere(1)"
      ],
      "execution_count": null,
      "outputs": [
        {
          "output_type": "execute_result",
          "data": {
            "text/plain": [
              "1"
            ]
          },
          "metadata": {
            "tags": []
          },
          "execution_count": 42
        }
      ]
    },
    {
      "cell_type": "code",
      "metadata": {
        "id": "j90VZFJKnjH9",
        "outputId": "a17f1993-78e3-41b5-e599-49c008a23fe1"
      },
      "source": [
        "data, labels = X.reshape(500, -1), np.where(y==1)[1]\n",
        "(n_samples, n_features), n_digits = data.shape, np.unique(labels).size\n",
        "\n",
        "print(\n",
        "    f\"# digits: {n_digits}; # samples: {n_samples}; # features {n_features}\"\n",
        ")"
      ],
      "execution_count": null,
      "outputs": [
        {
          "output_type": "stream",
          "text": [
            "# digits: 6; # samples: 500; # features 3136\n"
          ],
          "name": "stdout"
        }
      ]
    },
    {
      "cell_type": "code",
      "metadata": {
        "id": "-cbaK1zrnjH-"
      },
      "source": [
        "maxk = 7\n",
        "wcss = np.zeros(maxk)\n",
        "silhouette = np.zeros(maxk)\n",
        "\n",
        "for k in range(1,maxk):\n",
        "    km = KMeans(k)\n",
        "    y_pred = km.fit_predict(data)   \n",
        "    \n",
        "    for c in range(0, k):\n",
        "        for i1, i2 in itertools.combinations([ i for i in range(len(y_pred)) if y_pred[i] == c ], 2):\n",
        "            wcss[k] += sum(data[i1] - data[i2])**2\n",
        "    wcss[k] /= 2\n",
        "    \n",
        "    if k > 1:\n",
        "        silhouette[k] = silhouette_score(data,labels)\n"
      ],
      "execution_count": null,
      "outputs": []
    },
    {
      "cell_type": "code",
      "metadata": {
        "id": "459x0NZQnjH-",
        "outputId": "770d9340-a373-4561-b730-ec669733b035"
      },
      "source": [
        "fig, ax = plt.subplots()\n",
        "ax.plot(range(2,maxk), wcss[2:maxk], 'o-')\n",
        "ax.set_xlabel(\"number of clusters\")\n",
        "ax.set_ylabel(\"within-cluster sum of squares\")"
      ],
      "execution_count": null,
      "outputs": [
        {
          "output_type": "execute_result",
          "data": {
            "text/plain": [
              "Text(0, 0.5, 'within-cluster sum of squares')"
            ]
          },
          "metadata": {
            "tags": []
          },
          "execution_count": 70
        },
        {
          "output_type": "display_data",
          "data": {
            "image/png": "[encoded data removed]",
            "text/plain": [
              "<Figure size 432x288 with 1 Axes>"
            ]
          },
          "metadata": {
            "tags": [],
            "needs_background": "light"
          }
        }
      ]
    },
    {
      "cell_type": "code",
      "metadata": {
        "id": "5jHHWLqenjH-"
      },
      "source": [
        "km = KMeans(k)\n",
        "y_pred = km.fit_predict(data)"
      ],
      "execution_count": null,
      "outputs": []
    },
    {
      "cell_type": "code",
      "metadata": {
        "id": "AsfDMZaSnjH_",
        "outputId": "580be123-039f-4071-c53d-df7133bbb9bf"
      },
      "source": [
        "i = 120\n",
        "print(y_pred[i], labels[i])"
      ],
      "execution_count": null,
      "outputs": [
        {
          "output_type": "stream",
          "text": [
            "0 0\n"
          ],
          "name": "stdout"
        }
      ]
    },
    {
      "cell_type": "code",
      "metadata": {
        "id": "iHY1yTimnjH_",
        "outputId": "cef5bc02-29bb-4bc5-fc97-caf4d508de38"
      },
      "source": [
        ""
      ],
      "execution_count": null,
      "outputs": [
        {
          "output_type": "execute_result",
          "data": {
            "text/plain": [
              "5"
            ]
          },
          "metadata": {
            "tags": []
          },
          "execution_count": 68
        }
      ]
    },
    {
      "cell_type": "code",
      "metadata": {
        "id": "ZBUQNKklnjIA"
      },
      "source": [
        ""
      ],
      "execution_count": null,
      "outputs": []
    }
  ]
}