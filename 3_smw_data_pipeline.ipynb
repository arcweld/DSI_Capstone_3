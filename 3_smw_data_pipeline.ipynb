{
  "nbformat": 4,
  "nbformat_minor": 0,
  "metadata": {
    "colab": {
      "name": "3-smw-data-pipeline.ipynb",
      "provenance": [],
      "collapsed_sections": [],
      "authorship_tag": "ABX9TyPKCDnEIuR7dbQL0fU4f+Su",
      "include_colab_link": true
    },
    "kernelspec": {
      "name": "python3",
      "display_name": "Python 3"
    },
    "language_info": {
      "name": "python"
    }
  },
  "cells": [
    {
      "cell_type": "markdown",
      "metadata": {
        "id": "view-in-github",
        "colab_type": "text"
      },
      "source": [
        "<a href=\"https://colab.research.google.com/github/arcweld/DSI_Capstone_3/blob/main/3_smw_data_pipeline.ipynb\" target=\"_parent\"><img src=\"https://colab.research.google.com/assets/colab-badge.svg\" alt=\"Open In Colab\"/></a>"
      ]
    },
    {
      "cell_type": "code",
      "metadata": {
        "colab": {
          "base_uri": "https://localhost:8080/"
        },
        "id": "QbSrdEejOzIn",
        "outputId": "6be3956d-cef3-4fb7-aa64-5f96a2388a07"
      },
      "source": [
        "from google.colab import drive\n",
        "drive.mount('/drive/')"
      ],
      "execution_count": null,
      "outputs": [
        {
          "output_type": "stream",
          "text": [
            "Drive already mounted at /drive/; to attempt to forcibly remount, call drive.mount(\"/drive/\", force_remount=True).\n"
          ],
          "name": "stdout"
        }
      ]
    },
    {
      "cell_type": "code",
      "metadata": {
        "colab": {
          "base_uri": "https://localhost:8080/"
        },
        "id": "Y1Xe322lYDiJ",
        "outputId": "41030e2d-26c0-459f-fc11-d3ef04469778"
      },
      "source": [
        "drive.mount(\"/drive/\", force_remount=True)"
      ],
      "execution_count": null,
      "outputs": [
        {
          "output_type": "stream",
          "text": [
            "Mounted at /drive/\n"
          ],
          "name": "stdout"
        }
      ]
    },
    {
      "cell_type": "code",
      "metadata": {
        "id": "l7ZDAVCaPKgq"
      },
      "source": [
        "import sys\n",
        "sys.path.append('../drive/MyDrive/Galvanize/Capstone3/')\n",
        "sys.path.append('../drive/MyDrive/Galvanize/Capstone3/src/')"
      ],
      "execution_count": null,
      "outputs": []
    },
    {
      "cell_type": "code",
      "metadata": {
        "id": "DXoOG_LERA4L"
      },
      "source": [
        "import os\n",
        "os.environ['KAGGLE_CONFIG_DIR'] = \"../drive/MyDrive/Galvanize/Capstone3/data/raw\""
      ],
      "execution_count": null,
      "outputs": []
    },
    {
      "cell_type": "code",
      "metadata": {
        "colab": {
          "base_uri": "https://localhost:8080/"
        },
        "id": "G6f-h_s8R5vv",
        "outputId": "09c6e495-2232-4ed9-84a4-104bbcdae1e5"
      },
      "source": [
        "!kaggle datasets download -d crawford/deepsat-sat6 --force"
      ],
      "execution_count": null,
      "outputs": [
        {
          "output_type": "stream",
          "text": [
            "Downloading deepsat-sat6.zip to /content\n",
            " 99% 2.41G/2.42G [00:29<00:00, 128MB/s]\n",
            "100% 2.42G/2.42G [00:29<00:00, 88.2MB/s]\n"
          ],
          "name": "stdout"
        }
      ]
    },
    {
      "cell_type": "code",
      "metadata": {
        "colab": {
          "base_uri": "https://localhost:8080/"
        },
        "id": "7R6BlvvsSLaI",
        "outputId": "cf65fb9e-8780-45ae-8778-b7c894ded39d"
      },
      "source": [
        "!unzip ../drive/MyDrive/Galvanize/Capstone3/data/raw/\\*.zip "
      ],
      "execution_count": null,
      "outputs": [
        {
          "output_type": "stream",
          "text": [
            "Archive:  ../drive/MyDrive/Galvanize/Capstone3/data/raw/deepsat-sat6.zip\n",
            "  inflating: X_test_sat6.csv         \n",
            "  inflating: X_train_sat6.csv        \n",
            "  inflating: sat-6-full.mat          \n",
            "  inflating: sat6annotations.csv     \n",
            "  inflating: y_test_sat6.csv         \n",
            "  inflating: y_train_sat6.csv        \n"
          ],
          "name": "stdout"
        }
      ]
    },
    {
      "cell_type": "code",
      "metadata": {
        "colab": {
          "base_uri": "https://localhost:8080/"
        },
        "id": "KzR0tF5nYx2s",
        "outputId": "32be83a5-1b76-4f67-ab9c-d30f29f7e872"
      },
      "source": [
        "%cd ../drive/MyDrive/Galvanize/Capstone3/data/raw/\n",
        "!ls"
      ],
      "execution_count": null,
      "outputs": [
        {
          "output_type": "stream",
          "text": [
            "/drive/MyDrive/Galvanize/Capstone3/data/raw\n",
            "deepsat-sat6.zip  sat6annotations.csv  X_test_sat6.csv\ty_train_sat6.csv\n",
            "kaggle.json\t  sat-6-full.mat       y_test_sat6.csv\n"
          ],
          "name": "stdout"
        }
      ]
    },
    {
      "cell_type": "code",
      "metadata": {
        "colab": {
          "base_uri": "https://localhost:8080/"
        },
        "id": "BuPh4E3TZDur",
        "outputId": "55c57f58-ad14-4e13-dabf-c6fb79f5ec0e"
      },
      "source": [
        "%cd ../.."
      ],
      "execution_count": null,
      "outputs": [
        {
          "output_type": "stream",
          "text": [
            "/drive/MyDrive/Galvanize/Capstone3\n"
          ],
          "name": "stdout"
        }
      ]
    },
    {
      "cell_type": "code",
      "metadata": {
        "id": "xwYBhSwSZHtm"
      },
      "source": [
        "!mkdir repo"
      ],
      "execution_count": null,
      "outputs": []
    },
    {
      "cell_type": "code",
      "metadata": {
        "colab": {
          "base_uri": "https://localhost:8080/"
        },
        "id": "_8hdASWcZU-k",
        "outputId": "0dbce213-4ca9-4d8a-9819-86ff6db788be"
      },
      "source": [
        "%cd repo/"
      ],
      "execution_count": null,
      "outputs": [
        {
          "output_type": "stream",
          "text": [
            "/drive/My Drive/Galvanize/Capstone3/repo\n"
          ],
          "name": "stdout"
        }
      ]
    },
    {
      "cell_type": "code",
      "metadata": {
        "colab": {
          "base_uri": "https://localhost:8080/"
        },
        "id": "lHXyX5_5ZYqD",
        "outputId": "e73bbf37-c04c-41f1-cfc8-1e9adb773c8b"
      },
      "source": [
        "!git clone https://github.com/arcweld/DSI_Capstone_3.git"
      ],
      "execution_count": null,
      "outputs": [
        {
          "output_type": "stream",
          "text": [
            "Cloning into 'DSI_Capstone_3'...\n",
            "remote: Enumerating objects: 568, done.\u001b[K\n",
            "remote: Counting objects: 100% (568/568), done.\u001b[K\n",
            "remote: Compressing objects: 100% (469/469), done.\u001b[K\n",
            "remote: Total 568 (delta 84), reused 547 (delta 65), pack-reused 0\u001b[K\n",
            "Receiving objects: 100% (568/568), 4.71 MiB | 7.21 MiB/s, done.\n",
            "Resolving deltas: 100% (84/84), done.\n"
          ],
          "name": "stdout"
        }
      ]
    },
    {
      "cell_type": "code",
      "metadata": {
        "colab": {
          "base_uri": "https://localhost:8080/"
        },
        "id": "M-x5nOD7Zwnq",
        "outputId": "20699356-e935-4940-989a-d7a4b9482cbe"
      },
      "source": [
        "%ls"
      ],
      "execution_count": null,
      "outputs": [
        {
          "output_type": "stream",
          "text": [
            "2-smw-colab-eda.ipynb  \u001b[0m\u001b[01;34mlogs\u001b[0m/    \u001b[01;34mnotebooks\u001b[0m/   \u001b[01;34mrepo\u001b[0m/     \u001b[01;34msrc\u001b[0m/\n",
            "\u001b[01;34mdata\u001b[0m/                  \u001b[01;34mmodels\u001b[0m/  \u001b[01;34mreferences\u001b[0m/  \u001b[01;34mreports\u001b[0m/\n"
          ],
          "name": "stdout"
        }
      ]
    },
    {
      "cell_type": "code",
      "metadata": {
        "id": "o8-jUH4mPNmC"
      },
      "source": [
        "from src.data import make_dataset"
      ],
      "execution_count": null,
      "outputs": []
    },
    {
      "cell_type": "code",
      "metadata": {
        "id": "Kpr2u3YASKko"
      },
      "source": [
        "make_dataset.fetch_training_data()"
      ],
      "execution_count": null,
      "outputs": []
    }
  ]
}